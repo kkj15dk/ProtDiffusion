{
 "cells": [
  {
   "cell_type": "code",
   "execution_count": null,
   "metadata": {},
   "outputs": [],
   "source": [
    "# https://rest.uniprot.org/uniref/search?compressed=true&format=json&query=%28*%29+AND+%28identity%3A0.5%29&size=500"
   ]
  }
 ],
 "metadata": {
  "language_info": {
   "name": "python"
  }
 },
 "nbformat": 4,
 "nbformat_minor": 2
}
