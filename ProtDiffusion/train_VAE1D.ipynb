{
 "cells": [
  {
   "cell_type": "code",
   "execution_count": 1,
   "metadata": {},
   "outputs": [
    {
     "name": "stdout",
     "output_type": "stream",
     "text": [
      "{'batch_size': 64, 'mega_batch': 1000, 'num_epochs': 2, 'gradient_accumulation_steps': 64, 'learning_rate': 1e-05, 'lr_warmup_steps': 1000, 'save_image_steps': 100000, 'save_model_steps': 100000, 'mixed_precision': 'fp16', 'optimizer': 'AdamW', 'SGDmomentum': 0.9, 'output_dir': 'output/protein-VAE-UniRef50-3', 'pad_to_multiple_of': 16, 'max_len': 512, 'seed': 42, 'cutoff': None, 'kl_weight': 0.05, 'weight_decay': 0.01, 'grokfast': False, 'grokfast_alpha': 0.98, 'grokfast_lamb': 2.0}\n"
     ]
    }
   ],
   "source": [
    "from dataclasses import dataclass\n",
    "import os\n",
    "from typing import Optional, Literal, Union, List\n",
    "\n",
    "@dataclass\n",
    "class TrainingConfig:\n",
    "    batch_size: int = 64  # the batch size\n",
    "    mega_batch: int = 1000 # how many batches to use for batchsampling\n",
    "    num_epochs: int = 2  # the number of epochs to train the model\n",
    "    gradient_accumulation_steps: int = 64  # the number of steps to accumulate gradients before taking an optimizer step\n",
    "    learning_rate: float = 1e-5  # the learning rate\n",
    "    lr_warmup_steps:int  = 1000\n",
    "    save_image_steps:int  = 100000\n",
    "    save_model_steps: int = 100000\n",
    "    mixed_precision: str = \"fp16\"  # `no` for float32, `fp16` for automatic mixed precision\n",
    "    optimizer: str = \"AdamW\"  # the optimizer to use, choose between `AdamW`, `Adam`, `SGD`, and `Adamax`\n",
    "    SGDmomentum: float = 0.9\n",
    "    output_dir: str = os.path.join(\"output\",\"protein-VAE-UniRef50-3\")  # the model name locally and on the HF Hub\n",
    "    pad_to_multiple_of: int = 16\n",
    "    max_len: int = 512  # truncation of the input sequence\n",
    "\n",
    "    class_embeddings_concat = False  # whether to concatenate the class embeddings to the time embeddings\n",
    "\n",
    "    push_to_hub = False  # whether to upload the saved model to the HF Hub\n",
    "    hub_model_id = \"kkj15dk/protein-VAE-UniRef50-3\"  # the name of the repository to create on the HF Hub\n",
    "    hub_private_repo = False\n",
    "    overwrite_output_dir = True  # overwrite the old model when re-running the notebook\n",
    "    seed: int = 42\n",
    "\n",
    "    labels_file = 'labels_test.json'\n",
    "\n",
    "    cutoff: Optional[float] = None # cutoff for when to predict the token given the logits, and when to assign the unknown token 'X' to this position\n",
    "    skip_special_tokens = False # whether to skip the special tokens when writing the evaluation sequences\n",
    "    kl_weight: float = 0.05 # the weight of the KL divergence in the loss function\n",
    "\n",
    "    weight_decay: float = 0.01 # weight decay for the optimizer\n",
    "    grokfast: bool = False # whether to use the grokfast algorithm\n",
    "    grokfast_alpha: float = 0.98 #Momentum hyperparmeter of the EMA.\n",
    "    grokfast_lamb: float = 2.0 #Amplifying factor hyperparameter of the filter.\n",
    "\n",
    "config = TrainingConfig()\n",
    "print(vars(config))"
   ]
  },
  {
   "cell_type": "code",
   "execution_count": 2,
   "metadata": {},
   "outputs": [],
   "source": [
    "from datasets import load_dataset\n",
    "\n",
    "# # config.dataset_name = \"kkj15dk/test_dataset\"\n",
    "# config.dataset_name = \"agemagician/uniref50\"\n",
    "# # config.dataset_name = \"kkj15dk/UniRef50-encoded\"\n",
    "# dataset = load_dataset(config.dataset_name) # , download_mode='force_redownload')\n",
    "# dataset = dataset.shuffle(config.seed)"
   ]
  },
  {
   "cell_type": "code",
   "execution_count": 3,
   "metadata": {},
   "outputs": [],
   "source": [
    "from transformers import PreTrainedTokenizerFast\n",
    "\n",
    "tokenizer = PreTrainedTokenizerFast.from_pretrained(\"kkj15dk/protein_tokenizer\")\n",
    "\n",
    "def encode(example):\n",
    "    return tokenizer(example['text'],\n",
    "    # return tokenizer(example['sequence'],\n",
    "                    padding = True,\n",
    "                    pad_to_multiple_of = config.pad_to_multiple_of,\n",
    "                    return_token_type_ids=False,\n",
    "                    return_attention_mask=False, # We need to attend to padding tokens, so we set this to False\n",
    ")\n",
    "# dataset_train = dataset['train'].map(encode, batched=False, remove_columns=[\"sequence\"])\n",
    "# dataset_test = dataset['test'].map(encode, batched=False, remove_columns=[\"sequence\"])\n",
    "# dataset_val = dataset['val'].map(encode, batched=False, remove_columns=[\"sequence\"])"
   ]
  },
  {
   "cell_type": "code",
   "execution_count": 4,
   "metadata": {},
   "outputs": [
    {
     "name": "stdout",
     "output_type": "stream",
     "text": [
      "loading train_dataset\n"
     ]
    },
    {
     "data": {
      "application/vnd.jupyter.widget-view+json": {
       "model_id": "4e8f10a3941c47a48277cb7e6fda170f",
       "version_major": 2,
       "version_minor": 0
      },
      "text/plain": [
       "Loading dataset from disk:   0%|          | 0/143 [00:00<?, ?it/s]"
      ]
     },
     "metadata": {},
     "output_type": "display_data"
    },
    {
     "name": "stdout",
     "output_type": "stream",
     "text": [
      "loading test_dataset\n",
      "loading val_dataset\n"
     ]
    }
   ],
   "source": [
    "# dataset_train = dataset['train']\n",
    "# dataset_test = dataset['test']\n",
    "# dataset_val = dataset['val']\n",
    "\n",
    "from datasets import load_from_disk\n",
    "\n",
    "datasets_folder = 'datasets'\n",
    "\n",
    "train_file = os.path.join(datasets_folder, 'train_dataset')\n",
    "test_file = os.path.join(datasets_folder, 'test_dataset')\n",
    "val_file = os.path.join(datasets_folder, 'val_dataset')\n",
    "\n",
    "if os.path.exists(train_file):\n",
    "    print('loading train_dataset')\n",
    "    dataset_train = load_from_disk(train_file)\n",
    "else:\n",
    "    print('encoding train_dataset')\n",
    "    dataset_train = dataset['train'].map(encode, batched=False, remove_columns=[\"text\"], num_proc=os.cpu_count())\n",
    "    dataset_train.save_to_disk(train_file)\n",
    "\n",
    "if os.path.exists(test_file):\n",
    "    print('loading test_dataset')\n",
    "    dataset_test = load_from_disk(test_file)\n",
    "else:\n",
    "    print('encoding test_dataset')\n",
    "    dataset_test = dataset['test'].map(encode, batched=False, remove_columns=[\"text\"], num_proc=os.cpu_count())\n",
    "    dataset_test.save_to_disk(test_file)\n",
    "\n",
    "if os.path.exists(val_file):\n",
    "    print('loading val_dataset')\n",
    "    dataset_val = load_from_disk(val_file)\n",
    "else:\n",
    "    print('encoding val_dataset')\n",
    "    dataset_val = dataset['validation'].map(encode, batched=False, remove_columns=[\"text\"], num_proc=os.cpu_count())\n",
    "    dataset_val.save_to_disk(val_file)\n"
   ]
  },
  {
   "cell_type": "code",
   "execution_count": 5,
   "metadata": {},
   "outputs": [
    {
     "name": "stdout",
     "output_type": "stream",
     "text": [
      "Dataset({\n",
      "    features: ['id', 'name', 'input_ids'],\n",
      "    num_rows: 6084\n",
      "})\n",
      "{'id': 4909, 'name': 'UniRef50_E0S3A2', 'input_ids': [0, 13, 18, 12, 14, 6, 12, 8, 11, 5, 18, 16, 3, 10, 20, 6, 11, 12, 19, 8, 5, 6, 17, 7, 13, 18, 17, 10, 19, 18, 10, 8, 12, 19, 15, 8, 4, 18, 10, 17, 20, 10, 17, 14, 5, 11, 14, 17, 15, 13, 12, 10, 22, 18, 17, 5, 19, 10, 10, 3, 12, 14, 17, 14, 6, 4, 11, 8, 10, 6, 20, 3, 6, 20, 3, 8, 1, 23, 23, 23]}\n",
      "[0, 13, 18, 12, 14, 6, 12, 8, 11, 5, 18, 16, 3, 10, 20, 6, 11, 12, 19, 8, 5, 6, 17, 7, 13, 18, 17, 10, 19, 18, 10, 8, 12, 19, 15, 8, 4, 18, 10, 17, 20, 10, 17, 14, 5, 11, 14, 17, 15, 13, 12, 10, 22, 18, 17, 5, 19, 10, 10, 3, 12, 14, 17, 14, 6, 4, 11, 8, 10, 6, 20, 3, 6, 20, 3, 8, 1, 23, 23, 23]\n",
      "UniRef50_E0S3A2\n",
      "80\n",
      "[MSLNELGKDSQAIVEKLTGDERFMSRITSIGLTPGCSIRVIRNDKNRPMLIYSRDTIIALNRNECKGIEVAEVAG]---\n",
      "MSLNELGKDSQAIVEKLTGDERFMSRITSIGLTPGCSIRVIRNDKNRPMLIYSRDTIIALNRNECKGIEVAEVAG\n"
     ]
    }
   ],
   "source": [
    "print(dataset_val)\n",
    "print(dataset_val[0])\n",
    "print(dataset_val[0]['input_ids'])\n",
    "print(dataset_val[0]['name'])\n",
    "print(len(dataset_val[0]['input_ids']))\n",
    "print(tokenizer.decode(dataset_val[0]['input_ids'], skip_special_tokens=False))\n",
    "print(tokenizer.decode(dataset_val[0]['input_ids'], skip_special_tokens=True))"
   ]
  },
  {
   "cell_type": "code",
   "execution_count": 6,
   "metadata": {},
   "outputs": [
    {
     "name": "stdout",
     "output_type": "stream",
     "text": [
      "torch.Size([1, 24, 80])\n",
      "tensor([[ 0, 13, 18, 12, 14,  6, 12,  8, 11,  5, 18, 16,  3, 10, 20,  6, 11, 12,\n",
      "         19,  8,  5,  6, 17,  7, 13, 18, 17, 10, 19, 18, 10,  8, 12, 19, 15,  8,\n",
      "          4, 18, 10, 17, 20, 10, 17, 14,  5, 11, 14, 17, 15, 13, 12, 10, 22, 18,\n",
      "         17,  5, 19, 10, 10,  3, 12, 14, 17, 14,  6,  4, 11,  8, 10,  6, 20,  3,\n",
      "          6, 20,  3,  8,  1, 23, 23, 23]])\n",
      "['[MSLNELGKDSQAIVEKLTGDERFMSRITSIGLTPGCSIRVIRNDKNRPMLIYSRDTIIALNRNECKGIEVAEVAG]---']\n"
     ]
    }
   ],
   "source": [
    "import torch\n",
    "import torch.nn.functional as F\n",
    "\n",
    "input_ids_tensor = torch.tensor(dataset_val[0]['input_ids'], dtype=torch.long)\n",
    "onehot_seq = F.one_hot(input_ids_tensor, num_classes=tokenizer.vocab_size + 1).permute(1, 0).unsqueeze(0)\n",
    "print(onehot_seq.shape)\n",
    "\n",
    "def logits_to_token_ids(tokenizer, logits, cutoff = None):\n",
    "        '''\n",
    "        Convert a batch of logits to token_ids.\n",
    "        Returns token_ids\n",
    "        '''\n",
    "        if cutoff is None:\n",
    "            token_ids = logits.argmax(dim=1)\n",
    "        else:\n",
    "            token_ids = torch.where(logits.max(dim=1).values > cutoff, \n",
    "                                    logits.argmax(dim=1), \n",
    "                                    torch.tensor([tokenizer.unknown_token_id])\n",
    "                                    )\n",
    "\n",
    "        return token_ids\n",
    "token_ids = logits_to_token_ids(tokenizer, onehot_seq)\n",
    "print(token_ids)\n",
    "print(tokenizer.batch_decode(token_ids, skip_special_tokens=config.skip_special_tokens))\n"
   ]
  },
  {
   "cell_type": "code",
   "execution_count": 7,
   "metadata": {},
   "outputs": [],
   "source": [
    "import random\n",
    "\n",
    "def collate_fn(batch): # Can definitely be optimized\n",
    "    max_len = max(len(x['input_ids']) for x in batch)\n",
    "    if max_len > config.max_len:\n",
    "        max_len = config.max_len\n",
    "    input_ids = torch.zeros(len(batch), max_len, dtype=torch.long)\n",
    "    attention_mask = torch.zeros(len(batch), max_len, dtype=torch.float)\n",
    "    class_labels = torch.zeros(len(batch), dtype=torch.long)\n",
    "    # identifiers = [x['id'] for x in batch]\n",
    "    identifiers = [x.get('name', 'N/A') for x in batch]\n",
    "    for i, x in enumerate(batch):\n",
    "        seq_len = len(x['input_ids'])\n",
    "        if seq_len > max_len:\n",
    "            index = random.randint(0, seq_len - max_len)\n",
    "            x['input_ids'] = x['input_ids'][index:index+max_len]\n",
    "            seq_len = max_len\n",
    "        input_ids[i, :seq_len] = torch.tensor(x['input_ids'], dtype=torch.long)\n",
    "        attention_mask[i, :seq_len] = torch.tensor(1, dtype=torch.float)\n",
    "        # class_labels[i] = torch.tensor(x['class'], dtype=torch.long)\n",
    "    return {'id': identifiers, 'input_ids': input_ids, 'attention_mask': attention_mask, 'class_label': class_labels}\n",
    "\n",
    "class BatchSampler:\n",
    "    '''\n",
    "    BatchSampler for variable length sequences, batching by similar lengths, to prevent excessive padding.\n",
    "    '''\n",
    "    def __init__(self, lengths, batch_size, mega_batch_size, drop_last = True):\n",
    "        self.lengths = lengths\n",
    "        self.batch_size = batch_size\n",
    "        self.mega_batch_size = mega_batch_size\n",
    "        self.drop_last = drop_last\n",
    "\n",
    "    def __iter__(self):\n",
    "        size = len(self.lengths)\n",
    "        indices = list(range(size))\n",
    "        random.shuffle(indices)\n",
    "\n",
    "        step = self.mega_batch_size * self.batch_size\n",
    "        for i in range(0, size, step):\n",
    "            pool = indices[i:i+step]\n",
    "            pool = sorted(pool, key=lambda x: self.lengths[x])\n",
    "            mega_batch_indices = list(range(0, len(pool), self.batch_size))\n",
    "            random.shuffle(mega_batch_indices) # shuffle the mega batches, so that the model doesn't see the same order of lengths every time. The small batch will however always be the one with longest lengths\n",
    "            for j in mega_batch_indices:\n",
    "                if self.drop_last and j + self.batch_size > len(pool): # drop the last batch if it's too small\n",
    "                    continue\n",
    "                batch = pool[j:j+self.batch_size]\n",
    "                random.shuffle(batch) # shuffle the batch, so that the model doesn't see the same order of lengths every time\n",
    "                yield batch\n",
    "\n",
    "    def __len__(self):\n",
    "        if self.drop_last:\n",
    "            return len(self.lengths) // self.batch_size\n",
    "        else:\n",
    "            return (len(self.lengths) + self.batch_size - 1) // self.batch_size\n"
   ]
  },
  {
   "cell_type": "code",
   "execution_count": 8,
   "metadata": {},
   "outputs": [],
   "source": [
    "import pickle\n",
    "\n",
    "train_lengths_path = os.path.join(datasets_folder, 'train_lengths.pkl')\n",
    "val_lengths_path = os.path.join(datasets_folder, 'val_lengths.pkl')\n",
    "test_lengths_path = os.path.join(datasets_folder, 'test_lengths.pkl')\n",
    "\n",
    "if os.path.exists(train_lengths_path):\n",
    "    with open(train_lengths_path, 'rb') as f:\n",
    "        train_lengths = pickle.load(f)\n",
    "else:\n",
    "    train_lengths = list(map(lambda x: len(x[\"input_ids\"]), dataset_train))\n",
    "    with open(train_lengths_path, 'wb') as f:\n",
    "        pickle.dump(train_lengths, f)\n",
    "\n",
    "if os.path.exists(val_lengths_path):\n",
    "    with open(val_lengths_path, 'rb') as f:\n",
    "        val_lengths = pickle.load(f)\n",
    "else:\n",
    "    val_lengths = list(map(lambda x: len(x[\"input_ids\"]), dataset_val))\n",
    "    with open(val_lengths_path, 'wb') as f:\n",
    "        pickle.dump(val_lengths, f)\n",
    "\n",
    "if os.path.exists(test_lengths_path):\n",
    "    with open(test_lengths_path, 'rb') as f:\n",
    "        test_lengths = pickle.load(f)\n",
    "else:\n",
    "    test_lengths = list(map(lambda x: len(x[\"input_ids\"]), dataset_test))\n",
    "    with open(test_lengths_path, 'wb') as f:\n",
    "        pickle.dump(test_lengths, f)"
   ]
  },
  {
   "cell_type": "code",
   "execution_count": 9,
   "metadata": {},
   "outputs": [],
   "source": [
    "from torch.utils.data import DataLoader\n",
    "\n",
    "test_dataloader = DataLoader(dataset_test,\n",
    "                            batch_sampler=BatchSampler(test_lengths,\n",
    "                                                    config.batch_size,\n",
    "                                                    config.mega_batch,\n",
    "                                                    drop_last=False), \n",
    "                            collate_fn=collate_fn)\n",
    "val_dataloader = DataLoader(dataset_val, \n",
    "                            batch_sampler=BatchSampler(val_lengths,\n",
    "                                                    config.batch_size,\n",
    "                                                    config.mega_batch,\n",
    "                                                    drop_last=False),\n",
    "                            collate_fn=collate_fn)\n",
    "train_dataloader = DataLoader(dataset_train,\n",
    "                            batch_sampler=BatchSampler(train_lengths,\n",
    "                                                    config.batch_size,\n",
    "                                                    config.mega_batch,\n",
    "                                                    drop_last=False),\n",
    "                            collate_fn=collate_fn)"
   ]
  },
  {
   "cell_type": "code",
   "execution_count": 10,
   "metadata": {},
   "outputs": [],
   "source": [
    "from New1D.autoencoder_kl_1d import AutoencoderKL1D\n",
    "\n",
    "model = AutoencoderKL1D(\n",
    "    num_class_embeds=tokenizer.vocab_size + 1,  # the number of class embeddings\n",
    "    \n",
    "    down_block_types=(\n",
    "        \"DownEncoderBlock1D\",  # a regular ResNet downsampling block\n",
    "        \"DownEncoderBlock1D\",\n",
    "        \"DownEncoderBlock1D\",\n",
    "        \"DownEncoderBlock1D\",  # a ResNet downsampling block with spatial self-attention\n",
    "    ),\n",
    "    up_block_types=(\n",
    "        \"UpDecoderBlock1D\",  # a ResNet upsampling block with spatial self-attention\n",
    "        \"UpDecoderBlock1D\",\n",
    "        \"UpDecoderBlock1D\",\n",
    "        \"UpDecoderBlock1D\",  # a regular ResNet upsampling block\n",
    "    ),\n",
    "    block_out_channels=(128, 256, 512, 512),  # the number of output channels for each block\n",
    "    mid_block_type=\"UNetMidBlock1D\",  # the type of the middle block\n",
    "    mid_block_channels=1024,  # the number of output channels for the middle block\n",
    "    layers_per_block=2,  # how many ResNet layers to use per UNet block\n",
    "    transformer_layers_per_block=1, # how many transformer layers to use per ResNet layer. Not implemented yet.\n",
    "\n",
    "    latent_channels=128,  # the dimensionality of the latent space\n",
    "\n",
    "    num_attention_heads=1,  # the number of attention heads in the spatial self-attention blocks\n",
    "    upsample_type=\"conv\", # the type of upsampling to use, either 'conv' or 'conv_transpose'\n",
    "    act_fn=\"gelu\",  # the activation function to use\n",
    ")"
   ]
  },
  {
   "cell_type": "code",
   "execution_count": 11,
   "metadata": {},
   "outputs": [
    {
     "data": {
      "text/plain": [
       "78230936"
      ]
     },
     "execution_count": 11,
     "metadata": {},
     "output_type": "execute_result"
    }
   ],
   "source": [
    "model.children\n",
    "model.num_parameters()"
   ]
  },
  {
   "cell_type": "code",
   "execution_count": 12,
   "metadata": {},
   "outputs": [
    {
     "name": "stdout",
     "output_type": "stream",
     "text": [
      "dict_keys(['id', 'input_ids', 'attention_mask', 'class_label'])\n",
      "UniRef50_A0A330L8Z2\n",
      "tensor([ 0, 13, 15, 11, 12, 10, 19, 20, 16, 17, 15,  6, 16, 20, 19, 11,  9,  3,\n",
      "         9,  5, 22, 10, 11, 19, 22, 10, 12, 10, 15, 18,  8, 12, 20,  8, 12, 20,\n",
      "        18, 13, 12,  8,  8, 20,  3,  8, 12,  8, 22, 16, 12,  7,  3, 19,  5, 16,\n",
      "        22, 19, 21,  8, 19,  7, 12, 16, 18, 19,  8, 12, 10,  3, 12,  8, 19,  3,\n",
      "        12,  8,  7,  3, 16, 18, 17, 22,  9, 21, 22, 12, 12, 16, 18,  7, 15,  6,\n",
      "        20, 12,  3,  3, 17, 10, 17, 20,  3, 19,  3, 11, 16, 18, 11, 11,  8,  3,\n",
      "        11,  3, 15,  6, 15,  3,  3, 12,  6,  9, 15,  8, 17, 18, 12, 10, 15, 13,\n",
      "         3, 22, 13, 12,  8, 19,  8, 20, 13, 12,  8,  8, 18, 21, 12,  3, 10, 18,\n",
      "        10,  8, 16, 20, 18, 13, 20, 15,  3, 10, 12, 12, 15, 21,  3,  8,  7, 22,\n",
      "        21,  3, 17, 12,  7,  7, 21, 17,  8, 17, 20,  1, 23, 23])\n",
      "tensor([1., 1., 1., 1., 1., 1., 1., 1., 1., 1., 1., 1., 1., 1., 1., 1., 1., 1.,\n",
      "        1., 1., 1., 1., 1., 1., 1., 1., 1., 1., 1., 1., 1., 1., 1., 1., 1., 1.,\n",
      "        1., 1., 1., 1., 1., 1., 1., 1., 1., 1., 1., 1., 1., 1., 1., 1., 1., 1.,\n",
      "        1., 1., 1., 1., 1., 1., 1., 1., 1., 1., 1., 1., 1., 1., 1., 1., 1., 1.,\n",
      "        1., 1., 1., 1., 1., 1., 1., 1., 1., 1., 1., 1., 1., 1., 1., 1., 1., 1.,\n",
      "        1., 1., 1., 1., 1., 1., 1., 1., 1., 1., 1., 1., 1., 1., 1., 1., 1., 1.,\n",
      "        1., 1., 1., 1., 1., 1., 1., 1., 1., 1., 1., 1., 1., 1., 1., 1., 1., 1.,\n",
      "        1., 1., 1., 1., 1., 1., 1., 1., 1., 1., 1., 1., 1., 1., 1., 1., 1., 1.,\n",
      "        1., 1., 1., 1., 1., 1., 1., 1., 1., 1., 1., 1., 1., 1., 1., 1., 1., 1.,\n",
      "        1., 1., 1., 1., 1., 1., 1., 1., 1., 1., 1., 1., 1., 1.])\n",
      "tensor(0)\n"
     ]
    }
   ],
   "source": [
    "sample_image = next(iter(val_dataloader))\n",
    "print(sample_image.keys())\n",
    "print(sample_image['id'][0])\n",
    "print(sample_image['input_ids'][0])\n",
    "print(sample_image['attention_mask'][0])\n",
    "print(sample_image['class_label'][0])"
   ]
  },
  {
   "cell_type": "code",
   "execution_count": 13,
   "metadata": {},
   "outputs": [
    {
     "name": "stdout",
     "output_type": "stream",
     "text": [
      "torch.Size([1])\n",
      "torch.Size([1, 176])\n"
     ]
    }
   ],
   "source": [
    "import torch\n",
    "\n",
    "class_labels = sample_image['class_label'][0].unsqueeze(0)\n",
    "attention_mask = sample_image['attention_mask'][0].unsqueeze(0)\n",
    "print(class_labels.shape)\n",
    "print(attention_mask.shape)"
   ]
  },
  {
   "cell_type": "code",
   "execution_count": 14,
   "metadata": {},
   "outputs": [],
   "source": [
    "import torch.nn.functional as F\n",
    "from typing import Tuple\n",
    "from New1D.vae import AutoencoderKLOutput1D\n",
    "\n",
    "input_ids = sample_image['input_ids']\n",
    "attention_mask = sample_image['attention_mask']\n",
    "\n",
    "output = model(sample = input_ids,\n",
    "                attention_mask = attention_mask,\n",
    "                sample_posterior = True, # Should be set to true in training\n",
    ")\n",
    "\n",
    "def loss_fn(output: AutoencoderKLOutput1D, input_ids: torch.Tensor\n",
    "    ) -> Tuple[torch.Tensor, torch.Tensor]:\n",
    "    ce_loss = F.cross_entropy(output.sample, input_ids, reduction='none')\n",
    "    ce_loss = torch.sum(\n",
    "        ce_loss * output.attention_masks[0]\n",
    "    ) / output.attention_masks[0].sum()\n",
    "    \n",
    "    kl_loss = output.latent_dist.kl()\n",
    "    kl_loss = torch.sum(\n",
    "        kl_loss * output.attention_masks[-1]\n",
    "    ) / output.attention_masks[-1].sum()\n",
    "\n",
    "    return ce_loss, kl_loss\n",
    "\n",
    "# loss = loss_fn(output, input_ids)\n",
    "# print(loss)"
   ]
  },
  {
   "cell_type": "code",
   "execution_count": 15,
   "metadata": {},
   "outputs": [],
   "source": [
    "from diffusers.optimization import get_cosine_schedule_with_warmup\n",
    "\n",
    "if config.optimizer == \"Adam\":\n",
    "    optimizer = torch.optim.Adam(model.parameters(), lr=config.learning_rate, weight_decay=config.weight_decay)\n",
    "elif config.optimizer == \"AdamW\":\n",
    "    optimizer = torch.optim.AdamW(model.parameters(), lr=config.learning_rate, weight_decay=config.weight_decay)\n",
    "elif config.optimizer == \"Adamax\":\n",
    "    optimizer = torch.optim.Adamax(model.parameters(), lr=config.learning_rate, weight_decay=config.weight_decay)\n",
    "elif config.optimizer == \"SGD\":\n",
    "    optimizer = torch.optim.SGD(model.parameters(), lr=config.learning_rate, weight_decay=config.weight_decay, momentum=config.SGDmomentum)\n",
    "else:\n",
    "    raise ValueError(\"Invalid optimizer, choose between `AdamW`, `Adam`, `SGD`, and `Adamax`\")\n",
    "\n",
    "lr_scheduler = get_cosine_schedule_with_warmup(\n",
    "    optimizer=optimizer,\n",
    "    num_warmup_steps=config.lr_warmup_steps,\n",
    "    num_training_steps=(len(train_dataloader) * config.num_epochs // config.gradient_accumulation_steps),\n",
    ")"
   ]
  },
  {
   "cell_type": "code",
   "execution_count": 16,
   "metadata": {},
   "outputs": [
    {
     "name": "stdout",
     "output_type": "stream",
     "text": [
      "Epoch -1, val_loss: 3.2032, val_accuracy: 0.0346\n"
     ]
    },
    {
     "data": {
      "text/plain": [
       "{'val_loss': 3.20715069770813,\n",
       " 'val_ce_loss': 3.2056751251220703,\n",
       " 'val_kl_loss': 0.029512828215956688,\n",
       " 'val_acc': 0.034574805713781076}"
      ]
     },
     "execution_count": 16,
     "metadata": {},
     "output_type": "execute_result"
    }
   ],
   "source": [
    "import os\n",
    "\n",
    "from typing import Optional\n",
    "\n",
    "from Bio.Seq import Seq\n",
    "from Bio.SeqRecord import SeqRecord\n",
    "from Bio import SeqIO\n",
    "\n",
    "@torch.no_grad()\n",
    "def evaluate(config, epoch: int, output, dataloader, output_dir: str\n",
    "    ) -> float:\n",
    "\n",
    "    if output_dir is not None:\n",
    "        test_dir = os.path.join(config.output_dir, \"samples\")\n",
    "        os.makedirs(test_dir, exist_ok=True)\n",
    "\n",
    "    running_loss = 0.0\n",
    "    num_correct_residues = 0\n",
    "    total_residues = 0\n",
    "\n",
    "    for i, sample in enumerate(dataloader):\n",
    "\n",
    "        output = model(sample = sample['input_ids'],\n",
    "                            attention_mask = sample['attention_mask'],\n",
    "                            sample_posterior = False, # Should be set to true in training\n",
    "        )\n",
    "\n",
    "        ce_loss, kl_loss = loss_fn(output, sample['input_ids'])\n",
    "        loss = ce_loss + kl_loss * config.kl_weight\n",
    "        running_loss += loss.item()\n",
    "\n",
    "        token_ids_pred = logits_to_token_ids(tokenizer, output.sample, cutoff = config.cutoff)\n",
    "\n",
    "        token_ids_correct = ((sample['input_ids'] == token_ids_pred) & (sample['attention_mask'] == 1)).long()\n",
    "        num_residues = torch.sum(sample['attention_mask'], dim=1).long()\n",
    "\n",
    "        num_correct_residues += token_ids_correct.sum().item()\n",
    "        total_residues += num_residues.sum().item()\n",
    "\n",
    "        # Decode the predicted sequences, and remove zero padding\n",
    "        seqs_pred = tokenizer.batch_decode(token_ids_pred, skip_special_tokens=config.skip_special_tokens)\n",
    "        seqs_lens = torch.sum(sample['attention_mask'], dim=1).long()\n",
    "        seqs_pred = [seq[:i] for seq, i in zip(seqs_pred, seqs_lens)]\n",
    "\n",
    "        # Save all samples as a FASTA file\n",
    "        seq_record_list = [SeqRecord(Seq(seq), id=str(sample['id'][i]), \n",
    "                        description=\n",
    "                        f\"classlabel: {sample['class_label'][i].item()} acc: {token_ids_correct[i].sum().item() / num_residues[i].item():.2f}\")\n",
    "                        for i, seq in enumerate(seqs_pred)]\n",
    "        with open(f\"{test_dir}/{epoch:04d}.fa\", \"a\") as f:\n",
    "            SeqIO.write(seq_record_list, f, \"fasta\")\n",
    "    \n",
    "    acc = num_correct_residues / total_residues\n",
    "    print(f\"Epoch {epoch}, val_loss: {running_loss / len(dataloader):.4f}, val_accuracy: {acc:.4f}\")\n",
    "    logs = {\"val_loss\": loss.detach().item(), \n",
    "            \"val_ce_loss\": ce_loss.detach().item(), \n",
    "            \"val_kl_loss\": kl_loss.detach().item(),\n",
    "            \"val_acc\": acc,\n",
    "            }\n",
    "    return logs\n",
    "\n",
    "evaluate(config, -1, model, test_dataloader, output_dir = config.output_dir)"
   ]
  },
  {
   "cell_type": "code",
   "execution_count": 17,
   "metadata": {},
   "outputs": [],
   "source": [
    "from accelerate import Accelerator\n",
    "from huggingface_hub import create_repo, upload_folder\n",
    "from tqdm.auto import tqdm\n",
    "from pathlib import Path\n",
    "import os\n",
    "\n",
    "from grokfast import gradfilter_ema\n",
    "\n",
    "def train_loop(config, model, optimizer, train_dataloader, test_dataloader, lr_scheduler):\n",
    "    grads = None\n",
    "    \n",
    "    # Initialize accelerator and tensorboard logging\n",
    "    accelerator = Accelerator(\n",
    "        mixed_precision=config.mixed_precision,\n",
    "        gradient_accumulation_steps=config.gradient_accumulation_steps,\n",
    "        log_with=\"tensorboard\",\n",
    "        project_dir=os.path.join(config.output_dir, \"logs\"),\n",
    "    )\n",
    "    if accelerator.is_main_process:\n",
    "        if config.output_dir is not None:\n",
    "            os.makedirs(config.output_dir, exist_ok=True)\n",
    "        if config.push_to_hub:\n",
    "            repo_id = create_repo(\n",
    "                repo_id=config.hub_model_id or Path(config.output_dir).name, exist_ok=True\n",
    "            ).repo_id\n",
    "        accelerator.init_trackers(\"train_example\", config=vars(config))\n",
    "\n",
    "    # Prepare everything\n",
    "    # There is no specific order to remember, you just need to unpack the\n",
    "    # objects in the same order you gave them to the prepare method.\n",
    "    model, optimizer, train_dataloader, test_dataloader, lr_scheduler = accelerator.prepare(\n",
    "        model, optimizer, train_dataloader, test_dataloader, lr_scheduler\n",
    "    )\n",
    "\n",
    "    global_step = 0\n",
    "\n",
    "    # Now you train the model\n",
    "    model.train()\n",
    "    for epoch in range(config.num_epochs):\n",
    "        progress_bar = tqdm(total=len(train_dataloader), disable=not accelerator.is_local_main_process)\n",
    "        progress_bar.set_description(f\"Epoch {epoch}\")\n",
    "\n",
    "        for step, batch in enumerate(train_dataloader):\n",
    "\n",
    "            with accelerator.accumulate(model):\n",
    "                input = batch['input_ids']\n",
    "                attention_mask = batch['attention_mask']\n",
    "                # Predict the noise residual\n",
    "                output = model(sample = input,\n",
    "                                attention_mask = attention_mask,\n",
    "                                sample_posterior = True, # Should be set to true in training\n",
    "                )\n",
    "                ce_loss, kl_loss = loss_fn(output, input)\n",
    "                loss = ce_loss + kl_loss * config.kl_weight\n",
    "                accelerator.backward(loss)\n",
    "\n",
    "                if config.grokfast:\n",
    "                    grads = gradfilter_ema(model, grads=grads, alpha=config.grokfast_alpha, lamb=config.grokfast_lamb) \n",
    "\n",
    "                optimizer.step()\n",
    "                lr_scheduler.step()\n",
    "                optimizer.zero_grad()\n",
    "\n",
    "            progress_bar.update(1)\n",
    "            logs = {\"train_loss\": loss.detach().item(), \n",
    "                    \"train_ce_loss\": ce_loss.detach().item(), \n",
    "                    \"train_kl_loss\": kl_loss.detach().item(), \n",
    "                    \"lr\": lr_scheduler.get_last_lr()[0], \n",
    "                    \"step\": global_step,\n",
    "            }\n",
    "            progress_bar.set_postfix(**logs)\n",
    "            accelerator.log(logs, step=global_step)\n",
    "            global_step += 1\n",
    "\n",
    "            if global_step % config.save_image_steps == 0 or global_step == len(train_dataloader) - 1:\n",
    "                \n",
    "                model.eval() # Set model to eval mode to generate images\n",
    "                logs = evaluate(config, epoch, model, test_dataloader, output_dir = config.output_dir)\n",
    "                accelerator.log(logs, step=global_step)\n",
    "\n",
    "                if config.push_to_hub:\n",
    "                    upload_folder(\n",
    "                        repo_id=repo_id,\n",
    "                        folder_path=config.output_dir,\n",
    "                        commit_message=f\"Epoch {epoch}\",\n",
    "                        ignore_patterns=[\"step_*\", \"epoch_*\"],\n",
    "                    )\n",
    "                else:\n",
    "                    model.save_pretrained(config.output_dir)\n",
    "                model.train() # Set model back to train mode"
   ]
  },
  {
   "cell_type": "code",
   "execution_count": 18,
   "metadata": {},
   "outputs": [
    {
     "name": "stdout",
     "output_type": "stream",
     "text": [
      "Launching training on one GPU.\n"
     ]
    },
    {
     "name": "stderr",
     "output_type": "stream",
     "text": [
      "/home/kkj/ProtDiffusion/.venv/lib/python3.10/site-packages/accelerate/accelerator.py:488: FutureWarning: `torch.cuda.amp.GradScaler(args...)` is deprecated. Please use `torch.amp.GradScaler('cuda', args...)` instead.\n",
      "  self.scaler = torch.cuda.amp.GradScaler(**kwargs)\n"
     ]
    },
    {
     "data": {
      "application/vnd.jupyter.widget-view+json": {
       "model_id": "0581b3e181214c55a0cb01319fcd1a5c",
       "version_major": 2,
       "version_minor": 0
      },
      "text/plain": [
       "  0%|          | 0/923922 [00:00<?, ?it/s]"
      ]
     },
     "metadata": {},
     "output_type": "display_data"
    }
   ],
   "source": [
    "from accelerate import notebook_launcher\n",
    "\n",
    "args = (config, model, optimizer, train_dataloader, test_dataloader, lr_scheduler)\n",
    "\n",
    "notebook_launcher(train_loop, args, num_processes=1)\n"
   ]
  },
  {
   "cell_type": "code",
   "execution_count": null,
   "metadata": {},
   "outputs": [],
   "source": [
    "for i, para in enumerate(model.parameters()):\n",
    "    print(f'{i + 1}th parameter tensor:', para.shape)\n",
    "    print(para)\n",
    "    print(para.grad)"
   ]
  }
 ],
 "metadata": {
  "kernelspec": {
   "display_name": ".venv",
   "language": "python",
   "name": "python3"
  },
  "language_info": {
   "codemirror_mode": {
    "name": "ipython",
    "version": 3
   },
   "file_extension": ".py",
   "mimetype": "text/x-python",
   "name": "python",
   "nbconvert_exporter": "python",
   "pygments_lexer": "ipython3",
   "version": "3.10.12"
  }
 },
 "nbformat": 4,
 "nbformat_minor": 2
}
