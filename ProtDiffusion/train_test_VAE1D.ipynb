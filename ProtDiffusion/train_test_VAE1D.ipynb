{
 "cells": [
  {
   "cell_type": "code",
   "execution_count": 19,
   "metadata": {},
   "outputs": [],
   "source": [
    "from dataclasses import dataclass\n",
    "\n",
    "@dataclass\n",
    "class TrainingConfig:\n",
    "    batch_size = 64  # the batch size\n",
    "    mega_batch = 1000 # how many batches to use for batchsampling\n",
    "    num_epochs = 1000  # the number of epochs to train the model\n",
    "    gradient_accumulation_steps = 2\n",
    "    learning_rate = 1e-5\n",
    "    lr_warmup_steps = 1000\n",
    "    save_image_epochs = 10\n",
    "    save_model_epochs = 30\n",
    "    mixed_precision = \"fp16\"  # `no` for float32, `fp16` for automatic mixed precision\n",
    "    output_dir = \"output/protein-VAE-UniRef50-XS\"  # the model name locally and on the HF Hub\n",
    "    pad_to_multiple_of = 16\n",
    "    max_len = 512  # truncation of the input sequence\n",
    "\n",
    "    class_embeddings_concat = False  # whether to concatenate the class embeddings to the time embeddings\n",
    "\n",
    "    push_to_hub = False  # whether to upload the saved model to the HF Hub\n",
    "    hub_model_id = \"kkj15dk/protein-VAE_test\"  # the name of the repository to create on the HF Hub\n",
    "    hub_private_repo = False\n",
    "    overwrite_output_dir = True  # overwrite the old model when re-running the notebook\n",
    "    seed = 42\n",
    "\n",
    "    labels_file = 'labels_test.json'\n",
    "\n",
    "    cutoff = None # cutoff for when to predict the token given the logits, and when to assign the unknown token 'X' to this position\n",
    "    skip_special_tokens = False # whether to skip the special tokens when writing the evaluation sequences\n",
    "    kl_weight = 0.05 # the weight of the KL divergence in the loss function\n",
    "\n",
    "\n",
    "config = TrainingConfig()"
   ]
  },
  {
   "cell_type": "code",
   "execution_count": 20,
   "metadata": {},
   "outputs": [
    {
     "data": {
      "application/vnd.jupyter.widget-view+json": {
       "model_id": "e7caa49581a748228b6c1cd379dfe8df",
       "version_major": 2,
       "version_minor": 0
      },
      "text/plain": [
       "Resolving data files:   0%|          | 0/96 [00:00<?, ?it/s]"
      ]
     },
     "metadata": {},
     "output_type": "display_data"
    },
    {
     "data": {
      "application/vnd.jupyter.widget-view+json": {
       "model_id": "c80e893861e345bdaf20b3bd81ae10c8",
       "version_major": 2,
       "version_minor": 0
      },
      "text/plain": [
       "Loading dataset shards:   0%|          | 0/38 [00:00<?, ?it/s]"
      ]
     },
     "metadata": {},
     "output_type": "display_data"
    }
   ],
   "source": [
    "from datasets import load_dataset\n",
    "\n",
    "# config.dataset_name = \"kkj15dk/test_dataset\"\n",
    "config.dataset_name = \"agemagician/uniref50\"\n",
    "dataset = load_dataset(config.dataset_name) # , download_mode='force_redownload')\n",
    "dataset = dataset.shuffle(config.seed)"
   ]
  },
  {
   "cell_type": "code",
   "execution_count": 21,
   "metadata": {},
   "outputs": [
    {
     "data": {
      "application/vnd.jupyter.widget-view+json": {
       "model_id": "f3cf3979830c41be998839900ab0852b",
       "version_major": 2,
       "version_minor": 0
      },
      "text/plain": [
       "Map:   0%|          | 0/5888 [00:00<?, ? examples/s]"
      ]
     },
     "metadata": {},
     "output_type": "display_data"
    },
    {
     "data": {
      "application/vnd.jupyter.widget-view+json": {
       "model_id": "f33f1d038c29444ebd95c6e9098ddb41",
       "version_major": 2,
       "version_minor": 0
      },
      "text/plain": [
       "Map:   0%|          | 0/6084 [00:00<?, ? examples/s]"
      ]
     },
     "metadata": {},
     "output_type": "display_data"
    }
   ],
   "source": [
    "from transformers import PreTrainedTokenizerFast\n",
    "\n",
    "tokenizer = PreTrainedTokenizerFast.from_pretrained(\"kkj15dk/protein_tokenizer\")\n",
    "\n",
    "def encode(example):\n",
    "    return tokenizer(example['text'],\n",
    "    # return tokenizer(example['sequence'],\n",
    "                    padding = True,\n",
    "                    pad_to_multiple_of = config.pad_to_multiple_of,\n",
    "                    return_token_type_ids=False,\n",
    "                    return_attention_mask=False, # We need to attend to padding tokens, so we set this to False\n",
    ")\n",
    "# dataset_train = dataset['train'].map(encode, batched=False, remove_columns=[\"sequence\"])\n",
    "# dataset_test = dataset['test'].map(encode, batched=False, remove_columns=[\"sequence\"])\n",
    "# dataset_val = dataset['val'].map(encode, batched=False, remove_columns=[\"sequence\"])\n",
    "\n",
    "# dataset_train = dataset['train'].map(encode, batched=False, remove_columns=[\"text\"])\n",
    "dataset_test = dataset['test'].map(encode, batched=False, remove_columns=[\"text\"])\n",
    "dataset_val = dataset['validation'].map(encode, batched=False, remove_columns=[\"text\"])"
   ]
  },
  {
   "cell_type": "code",
   "execution_count": 22,
   "metadata": {},
   "outputs": [
    {
     "name": "stdout",
     "output_type": "stream",
     "text": [
      "Dataset({\n",
      "    features: ['id', 'name', 'input_ids'],\n",
      "    num_rows: 5888\n",
      "})\n",
      "[0, 13, 20, 17, 17, 20, 18, 7, 3, 18, 5, 3, 20, 15, 12, 15, 3, 19, 20, 18, 16, 6, 16, 20, 6, 17, 15, 12, 17, 18, 12, 12, 17, 18, 11, 15, 18, 12, 17, 21, 3, 20, 4, 3, 13, 20, 12, 18, 8, 12, 8, 13, 3, 13, 7, 3, 3, 20, 18, 20, 12, 21, 12, 16, 3, 3, 12, 8, 21, 5, 8, 6, 6, 20, 8, 12, 7, 12, 18, 7, 8, 18, 4, 12, 16, 12, 20, 18, 16, 20, 20, 20, 12, 15, 4, 12, 7, 11, 10, 19, 17, 21, 17, 6, 10, 17, 20, 3, 11, 10, 4, 12, 10, 3, 14, 3, 7, 11, 7, 13, 3, 12, 4, 18, 20, 16, 5, 18, 17, 21, 20, 7, 3, 10, 12, 10, 3, 3, 3, 15, 8, 7, 4, 8, 19, 15, 20, 12, 7, 18, 12, 4, 19, 9, 16, 20, 15, 11, 3, 5, 11, 17, 17, 21, 9, 7, 3, 12, 19, 3, 12, 14, 19, 20, 3, 19, 20, 12, 8, 3, 12, 3, 8, 18, 9, 12, 12, 20, 12, 8, 12, 16, 8, 18, 17, 15, 12, 8, 19, 15, 12, 7, 7, 3, 3, 3, 4, 22, 7, 12, 3, 8, 8, 4, 15, 8, 1, 23, 23, 23, 23, 23, 23, 23]\n",
      "UniRef50_A0A7S0FGK4\n",
      "224\n",
      "[MVRRVSFASDAVPLPATVSQEQVERPLRSLLRSKPSLRWAVCAMVLSGLGMAMFAAVSVLWLQAALGWDGEEVGLFLSFGSCLQLVSQVVVLPCLFKITRWREIRVAKICLIANAFKFMALCSVQDSRWVFAILIAAAPGFCGTPVLFSLCTHQVPKADKRRWHFALTALNTVATVLGALAGSHLLVLGLQGSRPLGTPLFFAAACYFLAGGCPG]-------\n",
      "MVRRVSFASDAVPLPATVSQEQVERPLRSLLRSKPSLRWAVCAMVLSGLGMAMFAAVSVLWLQAALGWDGEEVGLFLSFGSCLQLVSQVVVLPCLFKITRWREIRVAKICLIANAFKFMALCSVQDSRWVFAILIAAAPGFCGTPVLFSLCTHQVPKADKRRWHFALTALNTVATVLGALAGSHLLVLGLQGSRPLGTPLFFAAACYFLAGGCPG\n"
     ]
    }
   ],
   "source": [
    "print(dataset_test)\n",
    "print(dataset_test[0]['input_ids'])\n",
    "print(dataset_test[0]['name'])\n",
    "print(len(dataset_test[0]['input_ids']))\n",
    "print(tokenizer.decode(dataset_test[0]['input_ids'], skip_special_tokens=False))\n",
    "print(tokenizer.decode(dataset_test[0]['input_ids'], skip_special_tokens=True))"
   ]
  },
  {
   "cell_type": "code",
   "execution_count": 23,
   "metadata": {},
   "outputs": [
    {
     "name": "stdout",
     "output_type": "stream",
     "text": [
      "torch.Size([1, 24, 224])\n",
      "tensor([[ 0, 13, 20, 17, 17, 20, 18,  7,  3, 18,  5,  3, 20, 15, 12, 15,  3, 19,\n",
      "         20, 18, 16,  6, 16, 20,  6, 17, 15, 12, 17, 18, 12, 12, 17, 18, 11, 15,\n",
      "         18, 12, 17, 21,  3, 20,  4,  3, 13, 20, 12, 18,  8, 12,  8, 13,  3, 13,\n",
      "          7,  3,  3, 20, 18, 20, 12, 21, 12, 16,  3,  3, 12,  8, 21,  5,  8,  6,\n",
      "          6, 20,  8, 12,  7, 12, 18,  7,  8, 18,  4, 12, 16, 12, 20, 18, 16, 20,\n",
      "         20, 20, 12, 15,  4, 12,  7, 11, 10, 19, 17, 21, 17,  6, 10, 17, 20,  3,\n",
      "         11, 10,  4, 12, 10,  3, 14,  3,  7, 11,  7, 13,  3, 12,  4, 18, 20, 16,\n",
      "          5, 18, 17, 21, 20,  7,  3, 10, 12, 10,  3,  3,  3, 15,  8,  7,  4,  8,\n",
      "         19, 15, 20, 12,  7, 18, 12,  4, 19,  9, 16, 20, 15, 11,  3,  5, 11, 17,\n",
      "         17, 21,  9,  7,  3, 12, 19,  3, 12, 14, 19, 20,  3, 19, 20, 12,  8,  3,\n",
      "         12,  3,  8, 18,  9, 12, 12, 20, 12,  8, 12, 16,  8, 18, 17, 15, 12,  8,\n",
      "         19, 15, 12,  7,  7,  3,  3,  3,  4, 22,  7, 12,  3,  8,  8,  4, 15,  8,\n",
      "          1, 23, 23, 23, 23, 23, 23, 23]])\n",
      "['[MVRRVSFASDAVPLPATVSQEQVERPLRSLLRSKPSLRWAVCAMVLSGLGMAMFAAVSVLWLQAALGWDGEEVGLFLSFGSCLQLVSQVVVLPCLFKITRWREIRVAKICLIANAFKFMALCSVQDSRWVFAILIAAAPGFCGTPVLFSLCTHQVPKADKRRWHFALTALNTVATVLGALAGSHLLVLGLQGSRPLGTPLFFAAACYFLAGGCPG]-------']\n"
     ]
    }
   ],
   "source": [
    "import torch\n",
    "import torch.nn.functional as F\n",
    "\n",
    "input_ids_tensor = torch.tensor(dataset_test[0]['input_ids'], dtype=torch.long)\n",
    "onehot_seq = F.one_hot(input_ids_tensor, num_classes=tokenizer.vocab_size + 1).permute(1, 0).unsqueeze(0)\n",
    "print(onehot_seq.shape)\n",
    "\n",
    "def logits_to_token_ids(tokenizer, logits, cutoff = None):\n",
    "        '''\n",
    "        Convert a batch of logits to token_ids.\n",
    "        Returns token_ids\n",
    "        '''\n",
    "        if cutoff is None:\n",
    "            token_ids = logits.argmax(dim=1)\n",
    "        else:\n",
    "            token_ids = torch.where(logits.max(dim=1).values > cutoff, \n",
    "                                    logits.argmax(dim=1), \n",
    "                                    torch.tensor([tokenizer.unknown_token_id])\n",
    "                                    )\n",
    "\n",
    "        return token_ids\n",
    "token_ids = logits_to_token_ids(tokenizer, onehot_seq)\n",
    "print(token_ids)\n",
    "print(tokenizer.batch_decode(token_ids, skip_special_tokens=config.skip_special_tokens))\n"
   ]
  },
  {
   "cell_type": "code",
   "execution_count": 24,
   "metadata": {},
   "outputs": [],
   "source": [
    "import random\n",
    "\n",
    "def collate_fn(batch): # Can definitely be optimized\n",
    "    max_len = max(len(x['input_ids']) for x in batch)\n",
    "    if max_len > config.max_len:\n",
    "        max_len = config.max_len\n",
    "    input_ids = torch.zeros(len(batch), max_len, dtype=torch.long)\n",
    "    attention_mask = torch.zeros(len(batch), max_len, dtype=torch.float)\n",
    "    class_labels = torch.zeros(len(batch), dtype=torch.long)\n",
    "    # identifiers = [x['id'] for x in batch]\n",
    "    identifiers = [x.get('name', 'N/A') for x in batch]\n",
    "    for i, x in enumerate(batch):\n",
    "        seq_len = len(x['input_ids'])\n",
    "        if seq_len > max_len:\n",
    "            index = random.randint(0, seq_len - max_len)\n",
    "            x['input_ids'] = x['input_ids'][index:index+max_len]\n",
    "            seq_len = max_len\n",
    "        input_ids[i, :seq_len] = torch.tensor(x['input_ids'], dtype=torch.long)\n",
    "        attention_mask[i, :seq_len] = torch.tensor(1, dtype=torch.float)\n",
    "        # class_labels[i] = torch.tensor(x['class'], dtype=torch.long)\n",
    "    return {'id': identifiers, 'input_ids': input_ids, 'attention_mask': attention_mask, 'class_label': class_labels}\n",
    "\n",
    "class BatchSampler:\n",
    "    '''\n",
    "    BatchSampler for variable length sequences, batching by similar lengths, to prevent excessive padding.\n",
    "    '''\n",
    "    def __init__(self, lengths, batch_size, mega_batch_size, drop_last = True):\n",
    "        self.lengths = lengths\n",
    "        self.batch_size = batch_size\n",
    "        self.mega_batch_size = mega_batch_size\n",
    "        self.drop_last = drop_last\n",
    "\n",
    "    def __iter__(self):\n",
    "        size = len(self.lengths)\n",
    "        indices = list(range(size))\n",
    "        random.shuffle(indices)\n",
    "\n",
    "        step = self.mega_batch_size * self.batch_size\n",
    "        for i in range(0, size, step):\n",
    "            pool = indices[i:i+step]\n",
    "            pool = sorted(pool, key=lambda x: self.lengths[x])\n",
    "            mega_batch_indices = list(range(0, len(pool), self.batch_size))\n",
    "            random.shuffle(mega_batch_indices) # shuffle the mega batches, so that the model doesn't see the same order of lengths every time. The small batch will however always be the one with longest lengths\n",
    "            for j in mega_batch_indices:\n",
    "                if self.drop_last and j + self.batch_size > len(pool): # drop the last batch if it's too small\n",
    "                    continue\n",
    "                batch = pool[j:j+self.batch_size]\n",
    "                random.shuffle(batch) # shuffle the batch, so that the model doesn't see the same order of lengths every time\n",
    "                yield batch\n",
    "\n",
    "    def __len__(self):\n",
    "        if self.drop_last:\n",
    "            return len(self.lengths) // self.batch_size\n",
    "        else:\n",
    "            return (len(self.lengths) + self.batch_size - 1) // self.batch_size\n"
   ]
  },
  {
   "cell_type": "code",
   "execution_count": 25,
   "metadata": {},
   "outputs": [
    {
     "name": "stdout",
     "output_type": "stream",
     "text": [
      "Max val length: 6064\n",
      "Max test length: 13616\n"
     ]
    }
   ],
   "source": [
    "import torch\n",
    "import timeit\n",
    "\n",
    "val_lengths = list(map(lambda x: len(x[\"input_ids\"]), dataset_val))\n",
    "print(\"Max val length:\", max(val_lengths))\n",
    "test_lengths = list(map(lambda x: len(x[\"input_ids\"]), dataset_test))\n",
    "print(\"Max test length:\", max(test_lengths))\n",
    "# train_lengths = list(map(lambda x: len(x[\"input_ids\"]), dataset_train))\n",
    "# print(\"Max val length:\", max(val_lengths))"
   ]
  },
  {
   "cell_type": "code",
   "execution_count": 26,
   "metadata": {},
   "outputs": [],
   "source": [
    "from torch.utils.data import DataLoader\n",
    "\n",
    "# train_dataloader = DataLoader(dataset_train, \n",
    "#                             batch_sampler=BatchSampler(train_lengths, \n",
    "#                                                     config.batch_size,\n",
    "#                                                     config.mega_batch,\n",
    "#                                                     drop_last=False), \n",
    "#                             collate_fn=collate_fn)\n",
    "test_dataloader = DataLoader(dataset_test,\n",
    "                            batch_sampler=BatchSampler(test_lengths, \n",
    "                                                    config.batch_size,\n",
    "                                                    config.mega_batch,\n",
    "                                                    drop_last=False), \n",
    "                            collate_fn=collate_fn)\n",
    "val_dataloader = DataLoader(dataset_val, \n",
    "                            batch_sampler=BatchSampler(val_lengths, \n",
    "                                                    config.batch_size,\n",
    "                                                    config.mega_batch,\n",
    "                                                    drop_last=False),\n",
    "                            collate_fn=collate_fn)"
   ]
  },
  {
   "cell_type": "code",
   "execution_count": 27,
   "metadata": {},
   "outputs": [],
   "source": [
    "from New1D.autoencoder_kl_1d import AutoencoderKL1D\n",
    "\n",
    "model = AutoencoderKL1D(\n",
    "    num_class_embeds=tokenizer.vocab_size + 1,  # the number of class embeddings\n",
    "    \n",
    "    down_block_types=(\n",
    "        \"DownEncoderBlock1D\",  # a regular ResNet downsampling block\n",
    "        \"DownEncoderBlock1D\",\n",
    "        \"DownEncoderBlock1D\",\n",
    "        \"DownEncoderBlock1D\",  # a ResNet downsampling block with spatial self-attention\n",
    "    ),\n",
    "    up_block_types=(\n",
    "        \"UpDecoderBlock1D\",  # a ResNet upsampling block with spatial self-attention\n",
    "        \"UpDecoderBlock1D\",\n",
    "        \"UpDecoderBlock1D\",\n",
    "        \"UpDecoderBlock1D\",  # a regular ResNet upsampling block\n",
    "    ),\n",
    "    block_out_channels=(64, 128, 256, 256),  # the number of output channels for each block\n",
    "    mid_block_type=\"UNetMidBlock1D\",  # the type of the middle block\n",
    "    mid_block_channels=256,  # the number of output channels for the middle block\n",
    "    layers_per_block=2,  # how many ResNet layers to use per UNet block\n",
    "    transformer_layers_per_block=1, # how many transformer layers to use per ResNet layer. Not implemented yet.\n",
    "\n",
    "    latent_channels=64,  # the dimensionality of the latent space\n",
    "\n",
    "    num_attention_heads=4,  # the number of attention heads in the spatial self-attention blocks\n",
    ")"
   ]
  },
  {
   "cell_type": "code",
   "execution_count": 28,
   "metadata": {},
   "outputs": [
    {
     "data": {
      "text/plain": [
       "8755160"
      ]
     },
     "execution_count": 28,
     "metadata": {},
     "output_type": "execute_result"
    }
   ],
   "source": [
    "model.children\n",
    "model.num_parameters()"
   ]
  },
  {
   "cell_type": "code",
   "execution_count": 29,
   "metadata": {},
   "outputs": [
    {
     "name": "stdout",
     "output_type": "stream",
     "text": [
      "dict_keys(['id', 'input_ids', 'attention_mask', 'class_label'])\n",
      "UniRef50_A0A0M0BE48\n",
      "tensor([ 3, 14,  5,  4,  3,  8, 11, 15, 14, 11, 15, 12,  3, 22, 20, 20, 19, 12,\n",
      "        15, 10,  6, 15, 19, 16,  5, 22,  4,  8, 14, 15, 20, 12, 15, 11, 20, 17,\n",
      "         3, 10, 12, 18, 21,  6,  3, 19, 15, 15,  5,  5,  5, 15,  5, 21, 15, 13,\n",
      "        20, 21,  8, 14, 19, 12,  6, 17, 17, 10, 16, 10, 11, 15, 17, 12, 21, 12,\n",
      "        12,  3,  5, 20, 20, 11, 20, 12,  8, 20, 10, 12, 11, 16,  6, 20, 11, 12,\n",
      "        15, 15, 10,  7,  6,  6, 20,  6, 15,  4, 15, 10, 15, 16, 15,  6, 15, 15,\n",
      "        15, 12, 19, 20, 15,  6, 12, 20, 16, 12, 22,  3,  3, 15,  3,  8,  3, 11,\n",
      "        19, 17, 17,  6, 11, 10,  3, 20,  6, 15,  9, 17,  7,  8,  7, 14,  6, 10,\n",
      "        16,  3, 16, 12, 19, 13,  8,  3, 20, 14, 15, 16, 13, 20,  3,  6, 13, 10,\n",
      "         3, 16, 21,  5,  3, 20,  8, 12,  5, 21, 18,  3,  3, 20,  6,  3, 12, 16,\n",
      "         3, 19, 18,  8, 14, 20, 18, 22,  6,  6, 20, 11,  4, 12,  8, 12,  5, 14,\n",
      "        14, 17,  6, 21, 12, 20,  3, 19,  7,  9, 20, 11, 11, 15,  4,  8, 22, 18,\n",
      "         8, 14, 12,  4, 19, 11,  8, 18, 11,  6, 22, 20,  3,  7, 21,  3,  5, 21,\n",
      "         5,  5, 19,  4,  6, 21, 19, 22, 12,  5, 19, 20,  6, 20, 15, 20,  9,  5,\n",
      "        10,  3, 18, 10, 15,  3,  5,  8, 12,  9, 22, 19,  3, 10, 12, 15, 20, 14,\n",
      "        12,  9, 15,  9, 17, 16, 15,  4, 14, 11, 15, 11, 19,  3, 17, 20, 17,  3,\n",
      "        20, 12, 18, 21, 14, 19, 15, 15, 18, 19, 19,  5, 15, 14,  3, 20, 15, 22,\n",
      "        21,  8, 14, 17, 12,  5,  3,  9, 20, 16, 10, 11, 15,  8, 19, 15, 21,  6,\n",
      "        15, 11,  3, 17, 10, 18, 10, 12,  8,  8, 10,  8, 10,  3,  5, 10, 16, 19,\n",
      "         3,  8, 14,  8, 13, 19, 11, 15, 16,  3, 11,  7,  3,  6, 21,  8, 19, 22,\n",
      "         3,  5, 15, 21,  8, 19,  9, 13, 17,  6,  4, 15,  7,  8,  8, 12, 20, 19,\n",
      "        20,  9,  3, 15, 15, 14, 20,  8,  5, 11, 22,  8, 10,  6, 20, 17,  3,  7,\n",
      "         8, 18, 20,  8, 15, 15, 19, 11, 10, 19, 19, 16, 10, 21, 20, 20,  5, 11,\n",
      "         5,  8,  9,  8, 18, 22,  9, 19,  3,  5, 15, 20, 19,  8, 12,  7,  5, 22,\n",
      "        12,  5, 20, 19, 16, 14, 20, 12, 14, 11, 12,  3, 16, 21, 18, 19, 18,  8,\n",
      "         5,  8, 12, 21,  6, 10, 17, 12, 17, 17, 22, 14,  8,  3,  8, 20, 21, 12,\n",
      "         5,  5, 19, 15, 21, 22, 17, 10, 17, 12,  5, 14, 19,  3, 15, 19,  3, 16,\n",
      "        10, 19, 10,  5,  8,  8,  3,  4,  5, 19, 22,  3, 15,  8,  3, 11, 10, 19,\n",
      "         8, 11,  7, 20,  3, 17,  5, 12])\n",
      "tensor([1., 1., 1., 1., 1., 1., 1., 1., 1., 1., 1., 1., 1., 1., 1., 1., 1., 1.,\n",
      "        1., 1., 1., 1., 1., 1., 1., 1., 1., 1., 1., 1., 1., 1., 1., 1., 1., 1.,\n",
      "        1., 1., 1., 1., 1., 1., 1., 1., 1., 1., 1., 1., 1., 1., 1., 1., 1., 1.,\n",
      "        1., 1., 1., 1., 1., 1., 1., 1., 1., 1., 1., 1., 1., 1., 1., 1., 1., 1.,\n",
      "        1., 1., 1., 1., 1., 1., 1., 1., 1., 1., 1., 1., 1., 1., 1., 1., 1., 1.,\n",
      "        1., 1., 1., 1., 1., 1., 1., 1., 1., 1., 1., 1., 1., 1., 1., 1., 1., 1.,\n",
      "        1., 1., 1., 1., 1., 1., 1., 1., 1., 1., 1., 1., 1., 1., 1., 1., 1., 1.,\n",
      "        1., 1., 1., 1., 1., 1., 1., 1., 1., 1., 1., 1., 1., 1., 1., 1., 1., 1.,\n",
      "        1., 1., 1., 1., 1., 1., 1., 1., 1., 1., 1., 1., 1., 1., 1., 1., 1., 1.,\n",
      "        1., 1., 1., 1., 1., 1., 1., 1., 1., 1., 1., 1., 1., 1., 1., 1., 1., 1.,\n",
      "        1., 1., 1., 1., 1., 1., 1., 1., 1., 1., 1., 1., 1., 1., 1., 1., 1., 1.,\n",
      "        1., 1., 1., 1., 1., 1., 1., 1., 1., 1., 1., 1., 1., 1., 1., 1., 1., 1.,\n",
      "        1., 1., 1., 1., 1., 1., 1., 1., 1., 1., 1., 1., 1., 1., 1., 1., 1., 1.,\n",
      "        1., 1., 1., 1., 1., 1., 1., 1., 1., 1., 1., 1., 1., 1., 1., 1., 1., 1.,\n",
      "        1., 1., 1., 1., 1., 1., 1., 1., 1., 1., 1., 1., 1., 1., 1., 1., 1., 1.,\n",
      "        1., 1., 1., 1., 1., 1., 1., 1., 1., 1., 1., 1., 1., 1., 1., 1., 1., 1.,\n",
      "        1., 1., 1., 1., 1., 1., 1., 1., 1., 1., 1., 1., 1., 1., 1., 1., 1., 1.,\n",
      "        1., 1., 1., 1., 1., 1., 1., 1., 1., 1., 1., 1., 1., 1., 1., 1., 1., 1.,\n",
      "        1., 1., 1., 1., 1., 1., 1., 1., 1., 1., 1., 1., 1., 1., 1., 1., 1., 1.,\n",
      "        1., 1., 1., 1., 1., 1., 1., 1., 1., 1., 1., 1., 1., 1., 1., 1., 1., 1.,\n",
      "        1., 1., 1., 1., 1., 1., 1., 1., 1., 1., 1., 1., 1., 1., 1., 1., 1., 1.,\n",
      "        1., 1., 1., 1., 1., 1., 1., 1., 1., 1., 1., 1., 1., 1., 1., 1., 1., 1.,\n",
      "        1., 1., 1., 1., 1., 1., 1., 1., 1., 1., 1., 1., 1., 1., 1., 1., 1., 1.,\n",
      "        1., 1., 1., 1., 1., 1., 1., 1., 1., 1., 1., 1., 1., 1., 1., 1., 1., 1.,\n",
      "        1., 1., 1., 1., 1., 1., 1., 1., 1., 1., 1., 1., 1., 1., 1., 1., 1., 1.,\n",
      "        1., 1., 1., 1., 1., 1., 1., 1., 1., 1., 1., 1., 1., 1., 1., 1., 1., 1.,\n",
      "        1., 1., 1., 1., 1., 1., 1., 1., 1., 1., 1., 1., 1., 1., 1., 1., 1., 1.,\n",
      "        1., 1., 1., 1., 1., 1., 1., 1., 1., 1., 1., 1., 1., 1., 1., 1., 1., 1.,\n",
      "        1., 1., 1., 1., 1., 1., 1., 1.])\n",
      "tensor(0)\n"
     ]
    }
   ],
   "source": [
    "sample_image = next(iter(val_dataloader))\n",
    "print(sample_image.keys())\n",
    "print(sample_image['id'][0])\n",
    "print(sample_image['input_ids'][0])\n",
    "print(sample_image['attention_mask'][0])\n",
    "print(sample_image['class_label'][0])"
   ]
  },
  {
   "cell_type": "code",
   "execution_count": 30,
   "metadata": {},
   "outputs": [
    {
     "name": "stdout",
     "output_type": "stream",
     "text": [
      "torch.Size([1])\n",
      "torch.Size([1, 512])\n"
     ]
    }
   ],
   "source": [
    "import torch\n",
    "\n",
    "class_labels = sample_image['class_label'][0].unsqueeze(0)\n",
    "attention_mask = sample_image['attention_mask'][0].unsqueeze(0)\n",
    "print(class_labels.shape)\n",
    "print(attention_mask.shape)"
   ]
  },
  {
   "cell_type": "code",
   "execution_count": 31,
   "metadata": {},
   "outputs": [],
   "source": [
    "import torch.nn.functional as F\n",
    "\n",
    "input_ids = sample_image['input_ids']\n",
    "attention_mask = sample_image['attention_mask']\n",
    "\n",
    "output = model(sample = input_ids,\n",
    "                attention_mask = attention_mask,\n",
    "                sample_posterior = True, # Should be set to true in training\n",
    ")\n",
    "\n",
    "def loss_fn(output, input_ids\n",
    "    ) -> tuple[torch.Tensor]:\n",
    "    ce_loss = F.cross_entropy(output.sample, input_ids, reduction='none')\n",
    "    ce_loss = torch.sum(\n",
    "        ce_loss * output.attention_masks[0]\n",
    "    ) / output.attention_masks[0].sum()\n",
    "    \n",
    "    kl_loss = output.latent_dist.kl()\n",
    "    kl_loss = torch.sum(\n",
    "        kl_loss * output.attention_masks[-1]\n",
    "    ) / output.attention_masks[-1].sum()\n",
    "\n",
    "    return ce_loss, kl_loss\n",
    "\n",
    "# loss = loss_fn(output, input_ids)\n",
    "# print(loss)"
   ]
  },
  {
   "cell_type": "code",
   "execution_count": 32,
   "metadata": {},
   "outputs": [],
   "source": [
    "from diffusers.optimization import get_cosine_schedule_with_warmup\n",
    "\n",
    "optimizer = torch.optim.AdamW(model.parameters(), lr=config.learning_rate)\n",
    "lr_scheduler = get_cosine_schedule_with_warmup(\n",
    "    optimizer=optimizer,\n",
    "    num_warmup_steps=config.lr_warmup_steps,\n",
    "    # num_training_steps=(len(test_dataloader) * config.num_epochs),\n",
    "    num_training_steps=(len(test_dataloader) * config.num_epochs),\n",
    ")"
   ]
  },
  {
   "cell_type": "code",
   "execution_count": 33,
   "metadata": {},
   "outputs": [
    {
     "name": "stdout",
     "output_type": "stream",
     "text": [
      "Epoch -1, val_loss: 3.1798, val_accuracy: 0.0315\n"
     ]
    },
    {
     "ename": "AttributeError",
     "evalue": "'float' object has no attribute 'detach'",
     "output_type": "error",
     "traceback": [
      "\u001b[0;31m---------------------------------------------------------------------------\u001b[0m",
      "\u001b[0;31mAttributeError\u001b[0m                            Traceback (most recent call last)",
      "Cell \u001b[0;32mIn[33], line 62\u001b[0m\n\u001b[1;32m     55\u001b[0m     logs \u001b[38;5;241m=\u001b[39m {\u001b[38;5;124m\"\u001b[39m\u001b[38;5;124mval_loss\u001b[39m\u001b[38;5;124m\"\u001b[39m: loss\u001b[38;5;241m.\u001b[39mdetach()\u001b[38;5;241m.\u001b[39mitem(), \n\u001b[1;32m     56\u001b[0m             \u001b[38;5;124m\"\u001b[39m\u001b[38;5;124mval_ce_loss\u001b[39m\u001b[38;5;124m\"\u001b[39m: ce_loss\u001b[38;5;241m.\u001b[39mdetach()\u001b[38;5;241m.\u001b[39mitem(), \n\u001b[1;32m     57\u001b[0m             \u001b[38;5;124m\"\u001b[39m\u001b[38;5;124mval_kl_loss\u001b[39m\u001b[38;5;124m\"\u001b[39m: kl_loss\u001b[38;5;241m.\u001b[39mdetach()\u001b[38;5;241m.\u001b[39mitem(),\n\u001b[1;32m     58\u001b[0m             \u001b[38;5;124m\"\u001b[39m\u001b[38;5;124mval_acc\u001b[39m\u001b[38;5;124m\"\u001b[39m: acc\u001b[38;5;241m.\u001b[39mdetach()\u001b[38;5;241m.\u001b[39mitem(),\n\u001b[1;32m     59\u001b[0m             }\n\u001b[1;32m     60\u001b[0m     \u001b[38;5;28;01mreturn\u001b[39;00m logs\n\u001b[0;32m---> 62\u001b[0m \u001b[43mevaluate\u001b[49m\u001b[43m(\u001b[49m\u001b[43mconfig\u001b[49m\u001b[43m,\u001b[49m\u001b[43m \u001b[49m\u001b[38;5;241;43m-\u001b[39;49m\u001b[38;5;241;43m1\u001b[39;49m\u001b[43m,\u001b[49m\u001b[43m \u001b[49m\u001b[43mmodel\u001b[49m\u001b[43m,\u001b[49m\u001b[43m \u001b[49m\u001b[43mval_dataloader\u001b[49m\u001b[43m,\u001b[49m\u001b[43m \u001b[49m\u001b[43moutput_dir\u001b[49m\u001b[43m \u001b[49m\u001b[38;5;241;43m=\u001b[39;49m\u001b[43m \u001b[49m\u001b[43mconfig\u001b[49m\u001b[38;5;241;43m.\u001b[39;49m\u001b[43moutput_dir\u001b[49m\u001b[43m)\u001b[49m\n",
      "File \u001b[0;32m~/ProtDiffusion/.venv/lib/python3.10/site-packages/torch/utils/_contextlib.py:116\u001b[0m, in \u001b[0;36mcontext_decorator.<locals>.decorate_context\u001b[0;34m(*args, **kwargs)\u001b[0m\n\u001b[1;32m    113\u001b[0m \u001b[38;5;129m@functools\u001b[39m\u001b[38;5;241m.\u001b[39mwraps(func)\n\u001b[1;32m    114\u001b[0m \u001b[38;5;28;01mdef\u001b[39;00m \u001b[38;5;21mdecorate_context\u001b[39m(\u001b[38;5;241m*\u001b[39margs, \u001b[38;5;241m*\u001b[39m\u001b[38;5;241m*\u001b[39mkwargs):\n\u001b[1;32m    115\u001b[0m     \u001b[38;5;28;01mwith\u001b[39;00m ctx_factory():\n\u001b[0;32m--> 116\u001b[0m         \u001b[38;5;28;01mreturn\u001b[39;00m \u001b[43mfunc\u001b[49m\u001b[43m(\u001b[49m\u001b[38;5;241;43m*\u001b[39;49m\u001b[43margs\u001b[49m\u001b[43m,\u001b[49m\u001b[43m \u001b[49m\u001b[38;5;241;43m*\u001b[39;49m\u001b[38;5;241;43m*\u001b[39;49m\u001b[43mkwargs\u001b[49m\u001b[43m)\u001b[49m\n",
      "Cell \u001b[0;32mIn[33], line 58\u001b[0m, in \u001b[0;36mevaluate\u001b[0;34m(config, epoch, output, dataloader, output_dir)\u001b[0m\n\u001b[1;32m     53\u001b[0m acc \u001b[38;5;241m=\u001b[39m num_correct_residues \u001b[38;5;241m/\u001b[39m total_residues\n\u001b[1;32m     54\u001b[0m \u001b[38;5;28mprint\u001b[39m(\u001b[38;5;124mf\u001b[39m\u001b[38;5;124m\"\u001b[39m\u001b[38;5;124mEpoch \u001b[39m\u001b[38;5;132;01m{\u001b[39;00mepoch\u001b[38;5;132;01m}\u001b[39;00m\u001b[38;5;124m, val_loss: \u001b[39m\u001b[38;5;132;01m{\u001b[39;00mrunning_loss\u001b[38;5;250m \u001b[39m\u001b[38;5;241m/\u001b[39m\u001b[38;5;250m \u001b[39m\u001b[38;5;28mlen\u001b[39m(dataloader)\u001b[38;5;132;01m:\u001b[39;00m\u001b[38;5;124m.4f\u001b[39m\u001b[38;5;132;01m}\u001b[39;00m\u001b[38;5;124m, val_accuracy: \u001b[39m\u001b[38;5;132;01m{\u001b[39;00macc\u001b[38;5;132;01m:\u001b[39;00m\u001b[38;5;124m.4f\u001b[39m\u001b[38;5;132;01m}\u001b[39;00m\u001b[38;5;124m\"\u001b[39m)\n\u001b[1;32m     55\u001b[0m logs \u001b[38;5;241m=\u001b[39m {\u001b[38;5;124m\"\u001b[39m\u001b[38;5;124mval_loss\u001b[39m\u001b[38;5;124m\"\u001b[39m: loss\u001b[38;5;241m.\u001b[39mdetach()\u001b[38;5;241m.\u001b[39mitem(), \n\u001b[1;32m     56\u001b[0m         \u001b[38;5;124m\"\u001b[39m\u001b[38;5;124mval_ce_loss\u001b[39m\u001b[38;5;124m\"\u001b[39m: ce_loss\u001b[38;5;241m.\u001b[39mdetach()\u001b[38;5;241m.\u001b[39mitem(), \n\u001b[1;32m     57\u001b[0m         \u001b[38;5;124m\"\u001b[39m\u001b[38;5;124mval_kl_loss\u001b[39m\u001b[38;5;124m\"\u001b[39m: kl_loss\u001b[38;5;241m.\u001b[39mdetach()\u001b[38;5;241m.\u001b[39mitem(),\n\u001b[0;32m---> 58\u001b[0m         \u001b[38;5;124m\"\u001b[39m\u001b[38;5;124mval_acc\u001b[39m\u001b[38;5;124m\"\u001b[39m: \u001b[43macc\u001b[49m\u001b[38;5;241;43m.\u001b[39;49m\u001b[43mdetach\u001b[49m()\u001b[38;5;241m.\u001b[39mitem(),\n\u001b[1;32m     59\u001b[0m         }\n\u001b[1;32m     60\u001b[0m \u001b[38;5;28;01mreturn\u001b[39;00m logs\n",
      "\u001b[0;31mAttributeError\u001b[0m: 'float' object has no attribute 'detach'"
     ]
    }
   ],
   "source": [
    "import os\n",
    "\n",
    "from typing import Optional\n",
    "\n",
    "from Bio.Seq import Seq\n",
    "from Bio.SeqRecord import SeqRecord\n",
    "from Bio import SeqIO\n",
    "\n",
    "@torch.no_grad()\n",
    "def evaluate(config, epoch, output, dataloader, output_dir: Optional[str] = None\n",
    "    ) -> float:\n",
    "\n",
    "    if output_dir is not None:\n",
    "        test_dir = os.path.join(config.output_dir, \"samples\")\n",
    "        os.makedirs(test_dir, exist_ok=True)\n",
    "\n",
    "    running_loss = 0.0\n",
    "    num_correct_residues = 0\n",
    "    total_residues = 0\n",
    "\n",
    "    for i, sample in enumerate(dataloader):\n",
    "\n",
    "        output = model(sample = sample['input_ids'],\n",
    "                            attention_mask = sample['attention_mask'],\n",
    "                            sample_posterior = False, # Should be set to true in training\n",
    "        )\n",
    "\n",
    "        ce_loss, kl_loss = loss_fn(output, sample['input_ids'])\n",
    "        loss = ce_loss + kl_loss * config.kl_weight\n",
    "        running_loss += loss.item()\n",
    "\n",
    "        token_ids_pred = logits_to_token_ids(tokenizer, output.sample, cutoff = config.cutoff)\n",
    "\n",
    "        token_ids_correct = ((sample['input_ids'] == token_ids_pred) & (sample['attention_mask'] == 1)).long()\n",
    "        num_residues = torch.sum(sample['attention_mask'], dim=1).long()\n",
    "\n",
    "        num_correct_residues += token_ids_correct.sum().item()\n",
    "        total_residues += num_residues.sum().item()\n",
    "\n",
    "        # Decode the predicted sequences, and remove zero padding\n",
    "        seqs_pred = tokenizer.batch_decode(token_ids_pred, skip_special_tokens=config.skip_special_tokens)\n",
    "        seqs_lens = torch.sum(sample['attention_mask'], dim=1).long()\n",
    "        seqs_pred = [seq[:i] for seq, i in zip(seqs_pred, seqs_lens)]\n",
    "\n",
    "        # Save all samples as a FASTA file\n",
    "        seq_record_list = [SeqRecord(Seq(seq), id=str(sample['id'][i]), \n",
    "                        description=\n",
    "                        f\"classlabel: {sample['class_label'][i].item()} acc: {token_ids_correct[i].sum().item() / num_residues[i].item():.2f}\")\n",
    "                        for i, seq in enumerate(seqs_pred)]\n",
    "        with open(f\"{test_dir}/{epoch:04d}.fa\", \"a\") as f:\n",
    "            SeqIO.write(seq_record_list, f, \"fasta\")\n",
    "    \n",
    "    acc = num_correct_residues / total_residues\n",
    "    print(f\"Epoch {epoch}, val_loss: {running_loss / len(dataloader):.4f}, val_accuracy: {acc:.4f}\")\n",
    "    logs = {\"val_loss\": loss.detach().item(), \n",
    "            \"val_ce_loss\": ce_loss.detach().item(), \n",
    "            \"val_kl_loss\": kl_loss.detach().item(),\n",
    "            \"val_acc\": acc.detach().item(),\n",
    "            }\n",
    "    return logs\n",
    "\n",
    "evaluate(config, -1, model, val_dataloader, output_dir = config.output_dir)\n"
   ]
  },
  {
   "cell_type": "code",
   "execution_count": null,
   "metadata": {},
   "outputs": [],
   "source": [
    "from accelerate import Accelerator\n",
    "from huggingface_hub import create_repo, upload_folder\n",
    "from tqdm.auto import tqdm\n",
    "from pathlib import Path\n",
    "import os\n",
    "\n",
    "\n",
    "def train_loop(config, model, optimizer, train_dataloader, test_dataloader, lr_scheduler):\n",
    "    # Initialize accelerator and tensorboard logging\n",
    "    accelerator = Accelerator(\n",
    "        mixed_precision=config.mixed_precision,\n",
    "        gradient_accumulation_steps=config.gradient_accumulation_steps,\n",
    "        log_with=\"tensorboard\",\n",
    "        project_dir=os.path.join(config.output_dir, \"logs\"),\n",
    "    )\n",
    "    if accelerator.is_main_process:\n",
    "        if config.output_dir is not None:\n",
    "            os.makedirs(config.output_dir, exist_ok=True)\n",
    "        if config.push_to_hub:\n",
    "            repo_id = create_repo(\n",
    "                repo_id=config.hub_model_id or Path(config.output_dir).name, exist_ok=True\n",
    "            ).repo_id\n",
    "        accelerator.init_trackers(\"train_example\")\n",
    "\n",
    "    # Prepare everything\n",
    "    # There is no specific order to remember, you just need to unpack the\n",
    "    # objects in the same order you gave them to the prepare method.\n",
    "    model, optimizer, train_dataloader, test_dataloader, lr_scheduler = accelerator.prepare(\n",
    "        model, optimizer, train_dataloader, test_dataloader, lr_scheduler\n",
    "    )\n",
    "\n",
    "    global_step = 0\n",
    "\n",
    "    # Now you train the model\n",
    "    for epoch in range(config.num_epochs):\n",
    "        progress_bar = tqdm(total=len(train_dataloader), disable=not accelerator.is_local_main_process)\n",
    "        progress_bar.set_description(f\"Epoch {epoch}\")\n",
    "\n",
    "        for step, batch in enumerate(train_dataloader):\n",
    "\n",
    "            with accelerator.accumulate(model):\n",
    "                input = batch['input_ids']\n",
    "                attention_mask = batch['attention_mask']\n",
    "                # Predict the noise residual\n",
    "                output = model(sample = input,\n",
    "                                attention_mask = attention_mask,\n",
    "                                sample_posterior = True, # Should be set to true in training\n",
    "                )\n",
    "                ce_loss, kl_loss = loss_fn(output, input)\n",
    "                loss = ce_loss + kl_loss * config.kl_weight\n",
    "                accelerator.backward(loss)\n",
    "\n",
    "                optimizer.step()\n",
    "                lr_scheduler.step()\n",
    "                optimizer.zero_grad()\n",
    "\n",
    "            progress_bar.update(1)\n",
    "            logs = {\"train_loss\": loss.detach().item(), \n",
    "                    \"train_ce_loss\": ce_loss.detach().item(), \n",
    "                    \"train_kl_loss\": kl_loss.detach().item(), \n",
    "                    \"lr\": lr_scheduler.get_last_lr()[0], \n",
    "                    \"step\": global_step,\n",
    "            }\n",
    "            progress_bar.set_postfix(**logs)\n",
    "            accelerator.log(logs, step=global_step)\n",
    "            global_step += 1\n",
    "\n",
    "        # After each epoch you optionally sample some demo images with evaluate() and save the model\n",
    "        if accelerator.is_main_process:\n",
    "\n",
    "            if (epoch + 1) % config.save_image_epochs == 0 or epoch == config.num_epochs - 1:\n",
    "                \n",
    "                logs = evaluate(config, epoch, model, test_dataloader, output_dir = config.output_dir)\n",
    "                accelerator.log(logs, step=global_step)\n",
    "\n",
    "                if config.push_to_hub:\n",
    "                    upload_folder(\n",
    "                        repo_id=repo_id,\n",
    "                        folder_path=config.output_dir,\n",
    "                        commit_message=f\"Epoch {epoch}\",\n",
    "                        ignore_patterns=[\"step_*\", \"epoch_*\"],\n",
    "                    )\n",
    "                else:\n",
    "                    model.save_pretrained(config.output_dir)"
   ]
  },
  {
   "cell_type": "code",
   "execution_count": null,
   "metadata": {},
   "outputs": [],
   "source": [
    "from accelerate import notebook_launcher\n",
    "\n",
    "args = (config, model, optimizer, test_dataloader, val_dataloader, lr_scheduler)\n",
    "\n",
    "notebook_launcher(train_loop, args, num_processes=1)\n"
   ]
  },
  {
   "cell_type": "code",
   "execution_count": null,
   "metadata": {},
   "outputs": [],
   "source": []
  }
 ],
 "metadata": {
  "kernelspec": {
   "display_name": ".venv",
   "language": "python",
   "name": "python3"
  },
  "language_info": {
   "codemirror_mode": {
    "name": "ipython",
    "version": 3
   },
   "file_extension": ".py",
   "mimetype": "text/x-python",
   "name": "python",
   "nbconvert_exporter": "python",
   "pygments_lexer": "ipython3",
   "version": "3.10.12"
  }
 },
 "nbformat": 4,
 "nbformat_minor": 2
}
