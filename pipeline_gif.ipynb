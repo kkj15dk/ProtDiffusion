{
 "cells": [
  {
   "cell_type": "code",
   "execution_count": null,
   "metadata": {},
   "outputs": [],
   "source": [
    "from ProtDiffusion.models.autoencoder_kl_1d import AutoencoderKL1D\n",
    "from ProtDiffusion.models.dit_transformer_1d import DiTTransformer1DModel\n",
    "from ProtDiffusion.models.pipeline_protein import ProtDiffusionPipeline, logits_to_token_ids\n",
    "from ProtDiffusion.visualization_utils import make_logoplot\n",
    "\n",
    "from transformers import PreTrainedTokenizerFast\n",
    "from diffusers import DDPMScheduler\n",
    "import torch\n",
    "import torch.nn.functional as F\n",
    "\n",
    "from datasets import load_from_disk, Dataset, DatasetDict\n",
    "\n",
    "from Bio.Seq import Seq\n",
    "from Bio.SeqRecord import SeqRecord\n",
    "from Bio import SeqIO\n",
    "\n",
    "import os\n",
    "\n",
    "tokenizer = PreTrainedTokenizerFast.from_pretrained(\"/home/kkj/ProtDiffusion/ProtDiffusion/tokenizer/tokenizer_v4.2\")\n",
    "noise_scheduler = DDPMScheduler(num_train_timesteps=1000, clip_sample=False)\n",
    "vae = AutoencoderKL1D.from_pretrained('/home/kkj/ProtDiffusion/output/EMA_VAE_v24.12')\n",
    "transformer = DiTTransformer1DModel.from_pretrained('/home/kkj/ProtDiffusion/output/EMA-temp_DiT')\n"
   ]
  },
  {
   "cell_type": "code",
   "execution_count": null,
   "metadata": {},
   "outputs": [],
   "source": [
    "pipeline = ProtDiffusionPipeline(\n",
    "    transformer=transformer,\n",
    "    vae=vae,\n",
    "    scheduler=noise_scheduler,\n",
    "    tokenizer=tokenizer,\n",
    ")\n",
    "test_dir = os.path.join(\"temp\")\n",
    "os.makedirs(test_dir, exist_ok=True)\n",
    "\n",
    "seqs_lens = [256]\n",
    "class_labels = [0]\n",
    "guidance_scale = 4.0\n",
    "eval_num_inference_steps = 10\n",
    "\n",
    "output = pipeline(seq_len=seqs_lens,\n",
    "                  class_labels=class_labels,\n",
    "                  guidance_scale=guidance_scale,\n",
    "                  num_inference_steps=eval_num_inference_steps,\n",
    "                  generator=None,\n",
    "                  output_type='logits',\n",
    "                  return_hidden_latents=True,\n",
    ")\n",
    "logits = output.seqs"
   ]
  },
  {
   "cell_type": "code",
   "execution_count": null,
   "metadata": {},
   "outputs": [],
   "source": [
    "# Plot some random latents\n",
    "\n"
   ]
  },
  {
   "cell_type": "code",
   "execution_count": null,
   "metadata": {},
   "outputs": [],
   "source": [
    "pipeline.animate_inference(output, test_dir + \"/inference\")"
   ]
  }
 ],
 "metadata": {
  "kernelspec": {
   "display_name": ".venv",
   "language": "python",
   "name": "python3"
  },
  "language_info": {
   "codemirror_mode": {
    "name": "ipython",
    "version": 3
   },
   "file_extension": ".py",
   "mimetype": "text/x-python",
   "name": "python",
   "nbconvert_exporter": "python",
   "pygments_lexer": "ipython3",
   "version": "3.10.12"
  }
 },
 "nbformat": 4,
 "nbformat_minor": 2
}
