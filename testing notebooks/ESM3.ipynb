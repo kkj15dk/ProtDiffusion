{
 "cells": [
  {
   "cell_type": "code",
   "execution_count": null,
   "metadata": {},
   "outputs": [],
   "source": [
    "from huggingface_hub import login\n",
    "from esm.models.esm3 import ESM3\n",
    "from esm.sdk.api import ESM3InferenceClient, ESMProtein, GenerationConfig\n",
    "\n",
    "# # Will instruct you how to get an API key from huggingface hub, make one with \"Read\" permission.\n",
    "# login()\n",
    "\n",
    "# This will download the model weights and instantiate the model on your machine.\n",
    "model: ESM3InferenceClient = ESM3.from_pretrained(\"esm3_sm_open_v1\").to(\"cuda\") # or \"cpu\""
   ]
  },
  {
   "cell_type": "code",
   "execution_count": 56,
   "metadata": {},
   "outputs": [],
   "source": [
    "# Generate a completion for a partial Carbonic Anhydrase (2vvb)\n",
    "sequence = \"MGSIQQDDVHNQIDHCNQSDDLPAARLNCNDVELFEVAGLACDETSSPTGMRDEMVLLSWLIALLRTREGGQIRYEWAYRYPEEEPVPRCLAMNEVVAGLQSSVKETAAAVSRHISADVSSPPAPASLLLSTSSLSQTSDEAKDEGLLHLEIAFENGLCKIRPTWHSENMLPFTVTRYARTLIDTVRLCISNCDAAIQDCLRPTAYDLDEIWRWNHNLPPTYNFCMHEIISDQAQKFPDKEAIASWDGSLTYRQIDQYSSFVARSLIGMGVGLHDVLPVCFEKSRWTIVAVLAVMKAGATFVLMDPTLPLARLQNMAQQVGAKMMVSSRGQYNLATEIIPNANVLVVEENTFSSLSAEQNGEPLPTVPSSALMYMIFTSGSTGTPKGVKISHETYTSSAIPRANAVGYTEDSRVLDFASYAFDVSIDSMLLTLGNGGCLCIPSDEDRLNDINGVIRRMKVNYAGLTPSVARILDADVISSLSGLGLGGEAVSARDVNLWGQDTRIIIGYGPCECTIGCTVNSSAATGRDYISIGPGNGAVIWIVDPNDHESLVPLGAVGELLVEGPIVGQGYLNDPEKTAAAFIEDPSWLVAGHEGYPGRRGRLYKTGDLGRYDPDGSGGIVFVGRKDTQVKLRGQRVELGEIESQLRARLPSETTVIAEVIVPQGSGGQPTLVAFVAAQTTKGHDHTGLEAAELPDELRRALSEADAELAKVLPRYMVPTAYIPVNHIPTLISGKTDRKRLRQFGATVDLRQLDQDATNTAARELSDLERRLRQAWSQTLKLQACSIRLQDNFFALGGDSLTAMKLVSVCRSQGLDLSVTSMFSNPTLSAMASVVRICDVDVQRTVPAFSMITSDMNSACVEAAEPCGVGPADIEDIYPCTPTQESLFTFSLKSVKPYVAQRVLCIPSHIDLNAWRKAWEDVVAALPILRTRVAQLQEPGLQQVVLKNSISWTQASDLAEYLENDRTQKMNLGESLARYAIVEDSADGKRYMVWTIHHVLYDGWSEPIILKQVSDALQGQPVEVKAQMRDFVRFVRDSDDAAVQEFWRRELKGAVGPQFPRLPSRDFMPTPDALVERQVSLDTSSGSPFTMATLIRGAWALVASQYTGSDDIVFGETLTGRDIPLPGVESIVGPLIATVPIRVRILRGSTVESYLQAVQQSVLARTPYQHLGMQNIRKVSQDAQHACETGTGLVIQPEPEYVGSELGVERGDVVLEALHFNPYPLMLACGIRKGGFRVCASFDSSLIETRQMERMLAQLETACWQLSQGLSRKVDEISCLPEAELNQIWQWNRSPPLSLDETTSRLRANASTKPGSSYPPAVVPWVCSPRNSSLLSPIGCVGELWLEGALLSGDTVDSPAWLVAGSSTCAGRTGKVQATGDMVQLREDGSLVFVGRKENVVPVQGHAVDITEIERHLAEHLPPTIRAAATVVRSSSDQELVMFIEQPAAEEACIELLSEKREIVCDAPDKAFQTTICATIPGSLAAVLKKLDKYMRDSLPSYMAPSAYIVVEKLPNTMDDIDHNLLNQIASQVTPQILNELRDGLSNAWTKATAPNHLSASESILRSAWAKVLRVDPEQIDVDDNFFRRGGDSVLAMKLVSSLRAQGYSLSVADIFRHMRLSDAARVMKVDERSTEKINSYQPFSMLRLPDVQQFLANIVRPQLGDQHWPIRDVLPVTDSQDMDIRATIQPPRTSIQYTMLYFDNSVDRERLFRSCSDLVKTHEILRTVFISHESSFLQVVLNELEIPVRAHKTDKQLDQYVASLFREDIESNFQLGCPFLRLFYVEGNNGESCLVIGLSHAQYDGVSLPRLLQDLDALYTGTQLATFSPFSLYMAQTSEEAIQNKAAAYWRNLLSSSSLSTLDGPSSDPTDKAIFHTRPVNIHPLKEITTANLLTAAWAMVLARRLQTPDVTFGSVTSGRTLDIPNAENFMGPCYQLTPVRVPFHPDWTASDLLNFVQTQSAESAAHDFLGFEKIAKLAGWASGRQGFDSIVHHQDWEDFDMMPFGGGSCRVDIANPHGDAAYPVKAVSFVKEGEIHVGVVCSERDVMFVDEVLGELAAAVVELAGQSTEVLLDSKLFSGQ\"\n",
    "length = 360\n",
    "divisor = 10\n",
    "\n",
    "new_sequence = \"\"\n",
    "for i, aa in enumerate(sequence):\n",
    "    if i % divisor == 0:\n",
    "        new_sequence += '_'\n",
    "    else:\n",
    "        new_sequence += aa\n",
    "prompt = new_sequence[:length]"
   ]
  },
  {
   "cell_type": "code",
   "execution_count": 61,
   "metadata": {},
   "outputs": [
    {
     "name": "stderr",
     "output_type": "stream",
     "text": [
      "100%|██████████| 10/10 [00:14<00:00,  1.45s/it]\n"
     ]
    }
   ],
   "source": [
    "# Generate the sequence.\n",
    "protein = ESMProtein(sequence=prompt)\n",
    "protein = model.generate(protein, GenerationConfig(track=\"sequence\", num_steps=10, temperature=1))\n",
    "\n",
    "# protein = model.generate(protein, GenerationConfig(track=\"structure\", num_steps=8))\n",
    "# protein.sequence = None\n",
    "# protein = model.generate(protein, GenerationConfig(track=\"sequence\", num_steps=8))\n",
    "\n",
    "output = protein.sequence"
   ]
  },
  {
   "cell_type": "code",
   "execution_count": 62,
   "metadata": {},
   "outputs": [
    {
     "name": "stdout",
     "output_type": "stream",
     "text": [
      "Number of mistakes: 32\n",
      "percentage of correct: 11.11%\n"
     ]
    }
   ],
   "source": [
    "mistakes = 0\n",
    "for i, (aa1, aa2) in enumerate(zip(output, sequence)):\n",
    "    if aa1 != aa2:\n",
    "        mistakes += 1\n",
    "\n",
    "print(f\"Number of mistakes: {mistakes}\")\n",
    "print(f\"percentage of correct: {(1 - mistakes / (length // divisor)) * 100:.2f}%\")"
   ]
  },
  {
   "cell_type": "code",
   "execution_count": null,
   "metadata": {},
   "outputs": [],
   "source": []
  }
 ],
 "metadata": {
  "kernelspec": {
   "display_name": ".venv",
   "language": "python",
   "name": "python3"
  },
  "language_info": {
   "codemirror_mode": {
    "name": "ipython",
    "version": 3
   },
   "file_extension": ".py",
   "mimetype": "text/x-python",
   "name": "python",
   "nbconvert_exporter": "python",
   "pygments_lexer": "ipython3",
   "version": "3.10.12"
  }
 },
 "nbformat": 4,
 "nbformat_minor": 2
}
