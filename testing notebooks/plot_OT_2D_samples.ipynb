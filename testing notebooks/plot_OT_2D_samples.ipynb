{
  "cells": [
    {
      "cell_type": "markdown",
      "metadata": {},
      "source": [
        "\n",
        "# Optimal Transport between 2D empirical distributions\n",
        "\n",
        "Illustration of 2D optimal transport between distributions that are weighted\n",
        "sum of Diracs. The OT matrix is plotted with the samples.\n"
      ]
    },
    {
      "cell_type": "code",
      "execution_count": 41,
      "metadata": {
        "collapsed": false
      },
      "outputs": [],
      "source": [
        "# Author: Remi Flamary <remi.flamary@unice.fr>\n",
        "#         Kilian Fatras <kilian.fatras@irisa.fr>\n",
        "#\n",
        "# License: MIT License\n",
        "\n",
        "# sphinx_gallery_thumbnail_number = 4\n",
        "\n",
        "import numpy as np\n",
        "import torch\n",
        "import matplotlib.pylab as pl\n",
        "import ot\n",
        "import ot.plot"
      ]
    },
    {
      "cell_type": "markdown",
      "metadata": {},
      "source": [
        "## Generate data\n",
        "\n"
      ]
    },
    {
      "cell_type": "code",
      "execution_count": 42,
      "metadata": {},
      "outputs": [],
      "source": [
        "n = 4  # nb samples\n",
        "\n",
        "xs_ori = torch.randn(n, 64, 512)\n",
        "xs = xs_ori.view(n, -1)\n",
        "xt_ori = torch.randn(n, 64, 512)\n",
        "xt = xt_ori.view(n, -1)\n",
        "\n",
        "a, b = torch.ones((n,)) / n, torch.ones((n,)) / n  # uniform distribution on samples"
      ]
    },
    {
      "cell_type": "code",
      "execution_count": 43,
      "metadata": {
        "collapsed": false
      },
      "outputs": [],
      "source": [
        "# loss matrix\n",
        "M = ot.dist(xs, xt)"
      ]
    },
    {
      "cell_type": "markdown",
      "metadata": {},
      "source": [
        "## Plot data\n",
        "\n"
      ]
    },
    {
      "cell_type": "code",
      "execution_count": null,
      "metadata": {
        "collapsed": false
      },
      "outputs": [],
      "source": [
        "pl.figure(1)\n",
        "pl.plot(xs[:, 0], xs[:, 1], '+b', label='Source samples')\n",
        "pl.plot(xt[:, 0], xt[:, 1], 'xr', label='Target samples')\n",
        "pl.legend(loc=0)\n",
        "pl.title('Source and target distributions')\n",
        "\n",
        "pl.figure(2)\n",
        "pl.imshow(M, interpolation='nearest')\n",
        "pl.title('Cost matrix M')"
      ]
    },
    {
      "cell_type": "markdown",
      "metadata": {},
      "source": [
        "## Compute EMD\n",
        "\n"
      ]
    },
    {
      "cell_type": "code",
      "execution_count": null,
      "metadata": {
        "collapsed": false
      },
      "outputs": [],
      "source": [
        "G0 = ot.emd(a, b, M)\n",
        "\n",
        "pl.figure(3)\n",
        "pl.imshow(G0, interpolation='nearest')\n",
        "pl.title('OT matrix G0')\n",
        "\n",
        "pl.figure(4)\n",
        "ot.plot.plot2D_samples_mat(xs, xt, G0.numpy(), c=[.5, .5, 1])\n",
        "pl.plot(xs[:, 0], xs[:, 1], '+b', label='Source samples')\n",
        "pl.plot(xt[:, 0], xt[:, 1], 'xr', label='Target samples')\n",
        "pl.legend(loc=0)\n",
        "pl.title('OT matrix with samples')"
      ]
    },
    {
      "cell_type": "code",
      "execution_count": null,
      "metadata": {},
      "outputs": [],
      "source": [
        "# print((G0*n).to(dtype=torch.bool))\n",
        "bool_g = (G0*n).to(dtype=torch.bool)\n",
        "print((G0*n).to(dtype=torch.int))"
      ]
    },
    {
      "cell_type": "code",
      "execution_count": null,
      "metadata": {},
      "outputs": [],
      "source": [
        "sorted_xs = torch.zeros_like(xs)\n",
        "sorted_xt = torch.zeros_like(xt)\n",
        "for i in range(n):\n",
        "        for j in range(n):\n",
        "            if bool_g[i, j]:\n",
        "                sorted_xs[i] = xs[i]\n",
        "                sorted_xt[i] = xt[j]\n",
        "\n",
        "pl.figure(5)\n",
        "for i in range(sorted_xs.shape[0]):\n",
        "    pl.plot([sorted_xs[i, 0], sorted_xt[i, 0]], [sorted_xs[i, 1], sorted_xt[i, 1]], color='b', linestyle='-', linewidth=1)\n",
        "pl.plot(xs[:, 0], xs[:, 1], '+b', label='Source samples')\n",
        "pl.plot(xt[:, 0], xt[:, 1], 'xr', label='Target samples')\n",
        "pl.legend(loc=0)\n",
        "pl.title('OT matrix with samples, sorted')\n",
        "xs_new = sorted_xs.reshape(n, 64, 512)\n",
        "xt_new = sorted_xt.reshape(n, 64, 512)"
      ]
    },
    {
      "cell_type": "code",
      "execution_count": null,
      "metadata": {},
      "outputs": [],
      "source": [
        "print(xs_new)\n",
        "print(xs_ori)\n",
        "print(xt_new)\n",
        "print(xt_ori)"
      ]
    },
    {
      "cell_type": "code",
      "execution_count": null,
      "metadata": {},
      "outputs": [],
      "source": []
    }
  ],
  "metadata": {
    "kernelspec": {
      "display_name": ".venv",
      "language": "python",
      "name": "python3"
    },
    "language_info": {
      "codemirror_mode": {
        "name": "ipython",
        "version": 3
      },
      "file_extension": ".py",
      "mimetype": "text/x-python",
      "name": "python",
      "nbconvert_exporter": "python",
      "pygments_lexer": "ipython3",
      "version": "3.10.12"
    }
  },
  "nbformat": 4,
  "nbformat_minor": 0
}
